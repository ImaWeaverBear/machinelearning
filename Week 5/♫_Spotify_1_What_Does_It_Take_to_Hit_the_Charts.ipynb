{
  "metadata": {
    "kernelspec": {
      "language": "python",
      "display_name": "Python 3",
      "name": "python3"
    },
    "language_info": {
      "pygments_lexer": "ipython3",
      "nbconvert_exporter": "python",
      "version": "3.6.4",
      "file_extension": ".py",
      "codemirror_mode": {
        "name": "ipython",
        "version": 3
      },
      "name": "python",
      "mimetype": "text/x-python"
    },
    "colab": {
      "provenance": []
    }
  },
  "nbformat_minor": 0,
  "nbformat": 4,
  "cells": [
    {
      "source": [
        "# IMPORTANT: RUN THIS CELL IN ORDER TO IMPORT YOUR KAGGLE DATA SOURCES,\n",
        "# THEN FEEL FREE TO DELETE THIS CELL.\n",
        "# NOTE: THIS NOTEBOOK ENVIRONMENT DIFFERS FROM KAGGLE'S PYTHON\n",
        "# ENVIRONMENT SO THERE MAY BE MISSING LIBRARIES USED BY YOUR\n",
        "# NOTEBOOK.\n",
        "import kagglehub\n",
        "nelgiriyewithana_top_spotify_songs_2023_path = kagglehub.dataset_download('nelgiriyewithana/top-spotify-songs-2023')\n",
        "\n",
        "print('Data source import complete.')\n"
      ],
      "metadata": {
        "id": "n__yM2DBQmMK"
      },
      "cell_type": "code",
      "outputs": [],
      "execution_count": null
    },
    {
      "cell_type": "markdown",
      "source": [
        "\n",
        "### &nbsp;&nbsp;&nbsp;&nbsp;&nbsp; 🧙‍🧙‍🧙‍🧙‍🧙‍🧙‍🧙‍🧙‍ &nbsp;&nbsp;&nbsp;&nbsp;&nbsp;&nbsp;&nbsp; 🏴‍☠️🏴‍☠️🏴‍☠️🏴‍☠️🏴‍☠️ &nbsp;&nbsp;&nbsp;&nbsp; 🌌🌌🌌🌌🌌🌌🌌\n",
        "\n",
        "### &nbsp;&nbsp;&nbsp;&nbsp;&nbsp; 🧙‍ <span style=\"color:#5E6997\"> Wizard Notebook </span> 🧙‍ &nbsp;&nbsp;&nbsp;&nbsp;&nbsp; 🏴‍☠️ &nbsp; <span style=\"color:#5E6997\"> F.G.J </span> &nbsp;&nbsp;🏴‍☠️ &nbsp;&nbsp;&nbsp; 🌌 &nbsp;&nbsp; <span style=\"color:#5E6997\"> Spaceman </span> &nbsp;&nbsp;&nbsp; 🌌 &nbsp;\n",
        "\n",
        " ### &nbsp;&nbsp;&nbsp;&nbsp;&nbsp; 🧙‍🧙‍🧙‍🧙‍🧙‍🧙‍🧙‍🧙‍ &nbsp;&nbsp;&nbsp;&nbsp;&nbsp;&nbsp;&nbsp; 🏴‍☠️🏴‍☠️🏴‍☠️🏴‍☠️🏴‍☠️  &nbsp;&nbsp;&nbsp;&nbsp; 🌌🌌🌌🌌🌌🌌🌌\n",
        "\n",
        "<br>\n",
        "    \n",
        "<br>    \n",
        "\n",
        "# <span style=\"color:#5E6997\"> Spotify Data: Top 1000 Song Case Study (Data Analysis / Python) </span>\n",
        "\n",
        "## <span style=\"color:#5E6997\"> What Does It Take to Hit the Charts </span>\n",
        "\n",
        "### **Table of Contents**\n",
        "* [<span style=\"color:#A690A4\"> 0. Executive Summary](#exe_sum)\n",
        "* [<span style=\"color:#A690A4\"> 1. Introduction](#intro)\n",
        "* [<span style=\"color:#A690A4\"> 2. Collect, Wrangle & Explore](#process)\n",
        "* [<span style=\"color:#A690A4\"> 3. Analyze & Visualization: Data Analysis](#analyze)\n",
        "\n",
        "\n",
        "    \n",
        "## <span style=\"color:#5E6997\"> Executive Summary </span> <a class=\"anchor\" id=\"exe_sum\"></a>\n",
        "    \n",
        "### Key Findings\n",
        "* Mode, Key and BPM play a bigger role than the rest.\n",
        "\n",
        "* \"Mode: Major / Minor\" plays an important role for the success of a song. It has been found that:\n",
        "    - The top 10: 70% of Majors vs 40% of Majors for the Last 10 and vs 55,32% overall.\n",
        "    - The top 50: 68% of major vs 54% for the Last 50 and vs 55,32% overall.\n",
        "    \n",
        "    \n",
        "* \"Key\": C# is the golden key. It has been found that:\n",
        "    - Top 10: 30% of C# vs 10% for the last 10 songs and 14.1% overall.\n",
        "    - Top 50: 24% of C# vs 14% for the last 50 songs.\n",
        "    - Top 100:18% of C#.\n",
        "    \n",
        "    \n",
        "* BPM matters, and not slowing down too much is the key. It has been found:\n",
        "    - Best range is between 110 and 90.\n",
        "    - Overall average is 122.\n",
        "    - Top 10 BPM: average is 117, with a high standard deviation (+34). Majority of Top 10 below 110.\n",
        "    - Top 10 BPM minimum is 90 and minimum overall is 65.\n",
        "    \n",
        "    \n",
        "* Energy Score, you need to share atleast a minimum of energy to be successful:\n",
        "    - Top 10: smallest standard deviation, ranging from 78 to 45 with an average of 59.6, smaller than the overall.\n",
        "    - Optimal range: 78 to 45\n",
        "\n",
        "    \n",
        "### Objective & Scope\n",
        "* Collect, clean & analyze Spotify dataset\n",
        "* Identify variable of interest\n",
        "* Allow businesses to make data-driven decisions based on the given dataset\n",
        "* Share findings and insights\n",
        "    \n",
        "### Methodology\n",
        "* **Collect** data using \"top-spotify-songs-2023\"\n",
        "* **Wrangle** data using preprocessing, cleaning, transforming and organizing data for further analysis including predictive.\n",
        "* **Explore** data using available techniques\n",
        "* **Visualize** data to uncover insightful discoveries\n",
        "   \n",
        "\n",
        "## <span style=\"color:#5E6997\"> Introduction </span> <a class=\"anchor\" id=\"intro\"></a>\n",
        "    \n",
        "**Leading questions are:**\n",
        "1. What makes a song, a good song according to the dataset?\n",
        "2. Can we identify variables of interest that can be used to predict wether or not (True or False) a song will make it the top top 50, top 100, top 500?\n",
        "3. Can the data be transformed for Binary Classification algorithms ?\n",
        "    \n",
        "**Data Source**:\n",
        "Data has been grabbed using Spotify API by Nidula Elgiriyewithana.\n",
        "    \n",
        "**Preface**:\n",
        "I am conducting this analysis for fun and for \"sport\" as a training. I am considering this as Part 1, and Part 2 will be the predictive modeling. Also for the ones that are learning, I believe you will find some valuable information within this notebook.\n",
        "Enjoy."
      ],
      "metadata": {
        "id": "rQUqpP88QmML"
      }
    },
    {
      "cell_type": "markdown",
      "source": [
        "<br>\n",
        "\n",
        "                 ⚜️                                                     🦅\n",
        "               _______                                                ________\n",
        "              |_______|                                              |________|\n",
        "             /_________\\                                            /__________\\\n",
        "            /____________\\                                         /____________\\\n",
        "           |____|    |____|                                       |____|    |____|\n",
        "          /_____/____\\_____\\                                     /_____/____\\_____\\\n",
        "         /_____/______\\______\\                                  /_____/______\\______\\\n",
        "        /_____/________\\______\\                                /_____/________\\______\\\n",
        "       /_____/__________\\______\\                              /_____/__________\\______\\\n",
        "    __/_____/____________\\______\\__                        __/_____/____________\\______\\__\n",
        "    \n",
        "<br>   "
      ],
      "metadata": {
        "id": "7nyLT8zVQmMM"
      }
    },
    {
      "cell_type": "markdown",
      "source": [
        "# <span style=\"color:#5E6997\"> Collect, Wrangle & Explore </span> <a class=\"anchor\" id=\"process\"></a>\n"
      ],
      "metadata": {
        "id": "airpSM4zQmMN"
      }
    },
    {
      "cell_type": "code",
      "source": [
        "import numpy as np\n",
        "import pandas as pd\n",
        "import matplotlib.pyplot as plt\n",
        "from mpl_toolkits.mplot3d import Axes3D\n",
        "import seaborn as sns\n",
        "import statsmodels.api as sm\n",
        "from scipy.stats import pearsonr\n",
        "from scipy import stats\n",
        "from sklearn.preprocessing import MinMaxScaler\n"
      ],
      "metadata": {
        "_uuid": "8f2839f25d086af736a60e9eeb907d3b93b6e0e5",
        "_cell_guid": "b1076dfc-b9ad-4769-8c92-a6c4dae69d19",
        "_kg_hide-input": true,
        "execution": {
          "iopub.status.busy": "2023-10-21T04:06:31.496251Z",
          "iopub.execute_input": "2023-10-21T04:06:31.496578Z",
          "iopub.status.idle": "2023-10-21T04:06:35.51394Z",
          "shell.execute_reply.started": "2023-10-21T04:06:31.496553Z",
          "shell.execute_reply": "2023-10-21T04:06:35.512474Z"
        },
        "trusted": true,
        "id": "xwdvzE_oQmMN"
      },
      "execution_count": null,
      "outputs": []
    },
    {
      "cell_type": "code",
      "source": [
        "df = pd.read_csv('/kaggle/input/top-spotify-songs-2023/spotify-2023.csv', encoding='ISO-8859-1')\n",
        "#df_2 = pd.read_csv('/kaggle/input/top-spotify-songs-2023/spotify-2023.csv', encoding='ISO-8859-1')\n",
        "\n",
        "df.head()"
      ],
      "metadata": {
        "execution": {
          "iopub.status.busy": "2023-10-21T04:06:35.516556Z",
          "iopub.execute_input": "2023-10-21T04:06:35.517128Z",
          "iopub.status.idle": "2023-10-21T04:06:35.587154Z",
          "shell.execute_reply.started": "2023-10-21T04:06:35.517097Z",
          "shell.execute_reply": "2023-10-21T04:06:35.586065Z"
        },
        "trusted": true,
        "id": "GK3AR0BEQmMN"
      },
      "execution_count": null,
      "outputs": []
    },
    {
      "cell_type": "code",
      "source": [
        "df.info()"
      ],
      "metadata": {
        "execution": {
          "iopub.status.busy": "2023-10-21T04:06:35.588267Z",
          "iopub.execute_input": "2023-10-21T04:06:35.589209Z",
          "iopub.status.idle": "2023-10-21T04:06:35.61795Z",
          "shell.execute_reply.started": "2023-10-21T04:06:35.589177Z",
          "shell.execute_reply": "2023-10-21T04:06:35.616899Z"
        },
        "trusted": true,
        "id": "bONCV6Z3QmMN"
      },
      "execution_count": null,
      "outputs": []
    },
    {
      "cell_type": "code",
      "source": [
        "df.columns"
      ],
      "metadata": {
        "execution": {
          "iopub.status.busy": "2023-10-21T04:06:35.620557Z",
          "iopub.execute_input": "2023-10-21T04:06:35.620978Z",
          "iopub.status.idle": "2023-10-21T04:06:35.637009Z",
          "shell.execute_reply.started": "2023-10-21T04:06:35.620918Z",
          "shell.execute_reply": "2023-10-21T04:06:35.635939Z"
        },
        "trusted": true,
        "id": "4vqzapiSQmMN"
      },
      "execution_count": null,
      "outputs": []
    },
    {
      "cell_type": "code",
      "source": [
        "nan_values = df.isna()\n",
        "print(nan_values)"
      ],
      "metadata": {
        "execution": {
          "iopub.status.busy": "2023-10-21T04:06:35.638569Z",
          "iopub.execute_input": "2023-10-21T04:06:35.63896Z",
          "iopub.status.idle": "2023-10-21T04:06:35.664342Z",
          "shell.execute_reply.started": "2023-10-21T04:06:35.638904Z",
          "shell.execute_reply": "2023-10-21T04:06:35.66322Z"
        },
        "trusted": true,
        "id": "lfC6-8g_QmMO"
      },
      "execution_count": null,
      "outputs": []
    },
    {
      "cell_type": "code",
      "source": [
        "any_missing_values = nan_values.any().any()\n",
        "\n",
        "any_missing_values_in_column = nan_values.any()\n",
        "\n",
        "missing_value_count = df.isnull().sum()\n",
        "\n",
        "for column, has_missing in any_missing_values_in_column.items():\n",
        "    if has_missing:\n",
        "        count = missing_value_count[column]\n",
        "        print(f\"-----> Column '{column}' has {count} missing values.\")\n",
        "\n",
        "print(\"\\nMissing Values in the Entire DataFrame?\")\n",
        "print(any_missing_values)\n",
        "\n",
        "print(\"\\nMissing Values in Each Column?\")\n",
        "print(any_missing_values_in_column)\n",
        "\n",
        "print(\"\\nMissing Value Counts in Each Column:\")\n",
        "print(missing_value_count)"
      ],
      "metadata": {
        "_kg_hide-input": false,
        "execution": {
          "iopub.status.busy": "2023-10-21T04:06:35.667038Z",
          "iopub.execute_input": "2023-10-21T04:06:35.667829Z",
          "iopub.status.idle": "2023-10-21T04:06:35.685894Z",
          "shell.execute_reply.started": "2023-10-21T04:06:35.667793Z",
          "shell.execute_reply": "2023-10-21T04:06:35.684664Z"
        },
        "trusted": true,
        "id": "0h0IR5TgQmMO"
      },
      "execution_count": null,
      "outputs": []
    },
    {
      "cell_type": "code",
      "source": [
        "df = df.dropna(subset=['key'])"
      ],
      "metadata": {
        "execution": {
          "iopub.status.busy": "2023-10-21T04:06:35.688179Z",
          "iopub.execute_input": "2023-10-21T04:06:35.688956Z",
          "iopub.status.idle": "2023-10-21T04:06:35.706988Z",
          "shell.execute_reply.started": "2023-10-21T04:06:35.688894Z",
          "shell.execute_reply": "2023-10-21T04:06:35.70575Z"
        },
        "trusted": true,
        "id": "GMFw7w_QQmMO"
      },
      "execution_count": null,
      "outputs": []
    },
    {
      "cell_type": "code",
      "source": [
        "# DROP NA USED\n",
        "# DROP NA USED\n",
        "df.dropna(inplace=True)\n"
      ],
      "metadata": {
        "execution": {
          "iopub.status.busy": "2023-10-21T04:06:35.70863Z",
          "iopub.execute_input": "2023-10-21T04:06:35.709343Z",
          "iopub.status.idle": "2023-10-21T04:06:35.722829Z",
          "shell.execute_reply.started": "2023-10-21T04:06:35.709302Z",
          "shell.execute_reply": "2023-10-21T04:06:35.721356Z"
        },
        "trusted": true,
        "id": "SBEW2aB4QmMO"
      },
      "execution_count": null,
      "outputs": []
    },
    {
      "cell_type": "markdown",
      "source": [
        "**DROPNA USED ON DF**"
      ],
      "metadata": {
        "id": "9J904CDhQmMO"
      }
    },
    {
      "cell_type": "code",
      "source": [
        "df['streams'] = pd.to_numeric(df['streams'], errors='coerce')"
      ],
      "metadata": {
        "execution": {
          "iopub.status.busy": "2023-10-21T04:06:35.724499Z",
          "iopub.execute_input": "2023-10-21T04:06:35.725094Z",
          "iopub.status.idle": "2023-10-21T04:06:35.741099Z",
          "shell.execute_reply.started": "2023-10-21T04:06:35.725063Z",
          "shell.execute_reply": "2023-10-21T04:06:35.739428Z"
        },
        "trusted": true,
        "id": "wg7W1EGtQmMO"
      },
      "execution_count": null,
      "outputs": []
    },
    {
      "cell_type": "code",
      "source": [
        "df.info()"
      ],
      "metadata": {
        "execution": {
          "iopub.status.busy": "2023-10-21T04:06:35.745192Z",
          "iopub.execute_input": "2023-10-21T04:06:35.745586Z",
          "iopub.status.idle": "2023-10-21T04:06:35.764001Z",
          "shell.execute_reply.started": "2023-10-21T04:06:35.745554Z",
          "shell.execute_reply": "2023-10-21T04:06:35.762424Z"
        },
        "trusted": true,
        "id": "ayaqBwgrQmMO"
      },
      "execution_count": null,
      "outputs": []
    },
    {
      "cell_type": "code",
      "source": [
        "track_name_to_id = {name: idx for idx, name in enumerate(df['track_name'].unique())}\n",
        "\n",
        "df['track_id'] = df['track_name'].map(track_name_to_id)\n",
        "df.drop(columns=['track_name'], inplace=True)"
      ],
      "metadata": {
        "execution": {
          "iopub.status.busy": "2023-10-21T04:06:35.765625Z",
          "iopub.execute_input": "2023-10-21T04:06:35.766075Z",
          "iopub.status.idle": "2023-10-21T04:06:35.780773Z",
          "shell.execute_reply.started": "2023-10-21T04:06:35.766036Z",
          "shell.execute_reply": "2023-10-21T04:06:35.780011Z"
        },
        "trusted": true,
        "id": "NID3kw7gQmMO"
      },
      "execution_count": null,
      "outputs": []
    },
    {
      "cell_type": "code",
      "source": [
        "voi_col = ['track_id', 'streams','bpm', 'key', 'mode', 'danceability_%', 'valence_%', 'energy_%', 'acousticness_%', 'instrumentalness_%', 'liveness_%', 'speechiness_%']\n",
        "df_voi = df[voi_col]\n",
        "df_voi.head()"
      ],
      "metadata": {
        "execution": {
          "iopub.status.busy": "2023-10-21T04:06:35.781978Z",
          "iopub.execute_input": "2023-10-21T04:06:35.78301Z",
          "iopub.status.idle": "2023-10-21T04:06:35.801027Z",
          "shell.execute_reply.started": "2023-10-21T04:06:35.782976Z",
          "shell.execute_reply": "2023-10-21T04:06:35.800168Z"
        },
        "trusted": true,
        "id": "aorxRQHkQmMP"
      },
      "execution_count": null,
      "outputs": []
    },
    {
      "cell_type": "code",
      "source": [
        "#label encoding or one hot encoding?\n",
        "df_features = df_voi\n",
        "df_features = pd.get_dummies(df_voi, columns=['key', 'mode'], prefix=['key', 'mode'])"
      ],
      "metadata": {
        "execution": {
          "iopub.status.busy": "2023-10-21T04:06:35.80269Z",
          "iopub.execute_input": "2023-10-21T04:06:35.803134Z",
          "iopub.status.idle": "2023-10-21T04:06:35.811639Z",
          "shell.execute_reply.started": "2023-10-21T04:06:35.803108Z",
          "shell.execute_reply": "2023-10-21T04:06:35.810674Z"
        },
        "trusted": true,
        "id": "bXIw4vpvQmMP"
      },
      "execution_count": null,
      "outputs": []
    },
    {
      "cell_type": "code",
      "source": [
        "df_features.head()"
      ],
      "metadata": {
        "execution": {
          "iopub.status.busy": "2023-10-21T04:06:35.812916Z",
          "iopub.execute_input": "2023-10-21T04:06:35.813263Z",
          "iopub.status.idle": "2023-10-21T04:06:35.839674Z",
          "shell.execute_reply.started": "2023-10-21T04:06:35.813234Z",
          "shell.execute_reply": "2023-10-21T04:06:35.838408Z"
        },
        "trusted": true,
        "id": "Q7apsqGvQmMP"
      },
      "execution_count": null,
      "outputs": []
    },
    {
      "cell_type": "code",
      "source": [
        "#df_features = df_features.apply(pd.to_numeric, errors='coerce')"
      ],
      "metadata": {
        "execution": {
          "iopub.status.busy": "2023-10-21T04:06:35.841136Z",
          "iopub.execute_input": "2023-10-21T04:06:35.842192Z",
          "iopub.status.idle": "2023-10-21T04:06:35.85706Z",
          "shell.execute_reply.started": "2023-10-21T04:06:35.842158Z",
          "shell.execute_reply": "2023-10-21T04:06:35.855917Z"
        },
        "trusted": true,
        "id": "w934aW8PQmMP"
      },
      "execution_count": null,
      "outputs": []
    },
    {
      "cell_type": "code",
      "source": [
        "#rename columns of interests\n",
        "re_col = {\n",
        "    'danceability_%': 'danceability',\n",
        "    'valence_%': 'valence',\n",
        "    'energy_%': 'energy',\n",
        "    'acousticness_%': 'acousticness',\n",
        "    'instrumentalness_%': 'instrumentalness',\n",
        "    'liveness_%': 'liveness',\n",
        "    'speechiness_%': 'speechiness'\n",
        "}\n",
        "\n",
        "df_features.rename(columns=re_col, inplace=True)\n",
        "df_features.head()"
      ],
      "metadata": {
        "_kg_hide-input": false,
        "execution": {
          "iopub.status.busy": "2023-10-21T04:06:35.860236Z",
          "iopub.execute_input": "2023-10-21T04:06:35.860705Z",
          "iopub.status.idle": "2023-10-21T04:06:35.888084Z",
          "shell.execute_reply.started": "2023-10-21T04:06:35.860673Z",
          "shell.execute_reply": "2023-10-21T04:06:35.887156Z"
        },
        "trusted": true,
        "id": "W3RyvfzaQmMP"
      },
      "execution_count": null,
      "outputs": []
    },
    {
      "cell_type": "markdown",
      "source": [
        "# <span style=\"color:#5E6997\"> Analyze & Visualization: Data Analysis </span> <a class=\"anchor\" id=\"analyze\"></a>\n"
      ],
      "metadata": {
        "id": "oTr7E9DvQmMP"
      }
    },
    {
      "cell_type": "code",
      "source": [
        "df_da = df_features.drop(columns=['track_id'])\n",
        "df_da.head()"
      ],
      "metadata": {
        "execution": {
          "iopub.status.busy": "2023-10-21T04:06:35.889517Z",
          "iopub.execute_input": "2023-10-21T04:06:35.890127Z",
          "iopub.status.idle": "2023-10-21T04:06:35.917469Z",
          "shell.execute_reply.started": "2023-10-21T04:06:35.89009Z",
          "shell.execute_reply": "2023-10-21T04:06:35.91522Z"
        },
        "trusted": true,
        "id": "eZ4VjUeNQmMP"
      },
      "execution_count": null,
      "outputs": []
    },
    {
      "cell_type": "code",
      "source": [
        "#df_da = df_features.astype(int)"
      ],
      "metadata": {
        "execution": {
          "iopub.status.busy": "2023-10-21T04:06:35.918773Z",
          "iopub.execute_input": "2023-10-21T04:06:35.919493Z",
          "iopub.status.idle": "2023-10-21T04:06:35.925386Z",
          "shell.execute_reply.started": "2023-10-21T04:06:35.919456Z",
          "shell.execute_reply": "2023-10-21T04:06:35.923624Z"
        },
        "trusted": true,
        "id": "NZsSLyIcQmMP"
      },
      "execution_count": null,
      "outputs": []
    },
    {
      "cell_type": "code",
      "source": [
        "df_da.describe()"
      ],
      "metadata": {
        "execution": {
          "iopub.status.busy": "2023-10-21T04:06:35.927698Z",
          "iopub.execute_input": "2023-10-21T04:06:35.928529Z",
          "iopub.status.idle": "2023-10-21T04:06:35.973968Z",
          "shell.execute_reply.started": "2023-10-21T04:06:35.928487Z",
          "shell.execute_reply": "2023-10-21T04:06:35.972301Z"
        },
        "trusted": true,
        "id": "6-r-bnFuQmMP"
      },
      "execution_count": null,
      "outputs": []
    },
    {
      "cell_type": "code",
      "source": [
        "binary_columns = ['key_A', 'key_A#', 'key_B', 'key_C#', 'key_D', 'key_D#', 'key_E', 'key_F', 'key_F#', 'key_G', 'key_G#', 'mode_Major', 'mode_Minor']\n",
        "\n",
        "for column in binary_columns:\n",
        "    df_da[column] = df_da[column].astype(int)\n",
        "print(df_da.head())"
      ],
      "metadata": {
        "execution": {
          "iopub.status.busy": "2023-10-21T04:06:35.975522Z",
          "iopub.execute_input": "2023-10-21T04:06:35.976244Z",
          "iopub.status.idle": "2023-10-21T04:06:35.993517Z",
          "shell.execute_reply.started": "2023-10-21T04:06:35.976211Z",
          "shell.execute_reply": "2023-10-21T04:06:35.991583Z"
        },
        "trusted": true,
        "id": "pVCW3TUTQmMP"
      },
      "execution_count": null,
      "outputs": []
    },
    {
      "cell_type": "code",
      "source": [
        "df_da = df_da.astype(float)\n",
        "df_da.head()"
      ],
      "metadata": {
        "execution": {
          "iopub.status.busy": "2023-10-21T04:06:35.99511Z",
          "iopub.execute_input": "2023-10-21T04:06:35.996323Z",
          "iopub.status.idle": "2023-10-21T04:06:36.027681Z",
          "shell.execute_reply.started": "2023-10-21T04:06:35.99629Z",
          "shell.execute_reply": "2023-10-21T04:06:36.026346Z"
        },
        "trusted": true,
        "id": "pl4r8yOhQmMP"
      },
      "execution_count": null,
      "outputs": []
    },
    {
      "cell_type": "code",
      "source": [
        "df_da.shape"
      ],
      "metadata": {
        "execution": {
          "iopub.status.busy": "2023-10-21T04:06:36.029201Z",
          "iopub.execute_input": "2023-10-21T04:06:36.029503Z",
          "iopub.status.idle": "2023-10-21T04:06:36.036077Z",
          "shell.execute_reply.started": "2023-10-21T04:06:36.029479Z",
          "shell.execute_reply": "2023-10-21T04:06:36.034985Z"
        },
        "trusted": true,
        "id": "2KHHlmUgQmMP"
      },
      "execution_count": null,
      "outputs": []
    },
    {
      "cell_type": "code",
      "source": [
        "scaler = MinMaxScaler()\n",
        "\n",
        "df_da['streams'] = scaler.fit_transform(df_da[['streams']])\n",
        "print(df_da.head())"
      ],
      "metadata": {
        "execution": {
          "iopub.status.busy": "2023-10-21T04:06:36.037431Z",
          "iopub.execute_input": "2023-10-21T04:06:36.037802Z",
          "iopub.status.idle": "2023-10-21T04:06:36.063187Z",
          "shell.execute_reply.started": "2023-10-21T04:06:36.037771Z",
          "shell.execute_reply": "2023-10-21T04:06:36.061952Z"
        },
        "trusted": true,
        "id": "qeSbqnD1QmMP"
      },
      "execution_count": null,
      "outputs": []
    },
    {
      "cell_type": "code",
      "source": [
        "columns_to_plot = ['bpm', 'danceability', 'valence', 'energy', 'acousticness', 'instrumentalness', 'liveness', 'speechiness']\n",
        "\n",
        "for i, column in enumerate(columns_to_plot, 1):\n",
        "    plt.subplot(3, 3, i)\n",
        "    sns.histplot(data=df_da, x=column, bins=20, color='blue')\n",
        "    plt.xlabel(column, fontsize=12)\n",
        "    plt.ylabel(\"Score\", fontsize=12)\n",
        "\n",
        "plt.tight_layout()\n",
        "plt.show()"
      ],
      "metadata": {
        "_kg_hide-input": true,
        "execution": {
          "iopub.status.busy": "2023-10-21T04:06:36.064696Z",
          "iopub.execute_input": "2023-10-21T04:06:36.065102Z",
          "iopub.status.idle": "2023-10-21T04:06:37.371221Z",
          "shell.execute_reply.started": "2023-10-21T04:06:36.065069Z",
          "shell.execute_reply": "2023-10-21T04:06:37.369898Z"
        },
        "trusted": true,
        "id": "m2aE3WfGQmMP"
      },
      "execution_count": null,
      "outputs": []
    },
    {
      "cell_type": "code",
      "source": [
        "columns_to_correlate = ['bpm', 'danceability', 'valence', 'energy', 'acousticness', 'instrumentalness', 'liveness', 'speechiness', 'streams']\n",
        "\n",
        "correlation_matrix = df_da[columns_to_correlate].corr()\n",
        "print(correlation_matrix)"
      ],
      "metadata": {
        "execution": {
          "iopub.status.busy": "2023-10-21T04:06:37.37265Z",
          "iopub.execute_input": "2023-10-21T04:06:37.372992Z",
          "iopub.status.idle": "2023-10-21T04:06:37.387983Z",
          "shell.execute_reply.started": "2023-10-21T04:06:37.372963Z",
          "shell.execute_reply": "2023-10-21T04:06:37.386853Z"
        },
        "trusted": true,
        "id": "yqRAeplFQmMP"
      },
      "execution_count": null,
      "outputs": []
    },
    {
      "cell_type": "code",
      "source": [
        "columns_to_correlate = ['bpm', 'danceability', 'valence', 'energy', 'acousticness', 'instrumentalness', 'liveness', 'speechiness', 'streams']\n",
        "\n",
        "correlation_matrix = df_da[columns_to_correlate].corr()\n",
        "\n",
        "plt.figure(figsize=(10, 8))\n",
        "sns.heatmap(correlation_matrix, annot=True, cmap='coolwarm', fmt=\".2f\", square=True)\n",
        "\n",
        "plt.title(\"Correlation Heatmap\")\n",
        "plt.show()"
      ],
      "metadata": {
        "_kg_hide-input": true,
        "execution": {
          "iopub.status.busy": "2023-10-21T04:06:37.389192Z",
          "iopub.execute_input": "2023-10-21T04:06:37.389654Z",
          "iopub.status.idle": "2023-10-21T04:06:37.873701Z",
          "shell.execute_reply.started": "2023-10-21T04:06:37.38963Z",
          "shell.execute_reply": "2023-10-21T04:06:37.8727Z"
        },
        "trusted": true,
        "id": "Yo35i9whQmMP"
      },
      "execution_count": null,
      "outputs": []
    },
    {
      "cell_type": "code",
      "source": [
        "columns_to_plot = ['bpm', 'danceability', 'valence', 'energy', 'acousticness', 'instrumentalness', 'liveness', 'speechiness']\n",
        "\n",
        "fig, axes = plt.subplots(3, 3, figsize=(16, 12))\n",
        "\n",
        "axes = axes.flatten()\n",
        "\n",
        "for i, column in enumerate(columns_to_plot):\n",
        "    plt.sca(axes[i])\n",
        "    plt.bar(df_da[column], df_da['streams'], color='blue')\n",
        "    plt.xlabel(column, fontsize=12)\n",
        "    plt.ylabel('Streams', fontsize=12)\n",
        "    plt.title(f'Streams vs. {column}', fontsize=14)\n",
        "    plt.grid(axis='y')\n",
        "plt.tight_layout()\n",
        "plt.show()\n"
      ],
      "metadata": {
        "_kg_hide-input": true,
        "execution": {
          "iopub.status.busy": "2023-10-21T04:06:37.875419Z",
          "iopub.execute_input": "2023-10-21T04:06:37.876123Z",
          "iopub.status.idle": "2023-10-21T04:06:47.928095Z",
          "shell.execute_reply.started": "2023-10-21T04:06:37.876086Z",
          "shell.execute_reply": "2023-10-21T04:06:47.92699Z"
        },
        "trusted": true,
        "id": "LfDz95G1QmMP"
      },
      "execution_count": null,
      "outputs": []
    },
    {
      "cell_type": "code",
      "source": [
        "columns_to_plot = ['danceability', 'valence', 'energy', 'acousticness', 'instrumentalness', 'liveness', 'speechiness']\n",
        "\n",
        "fig, axes = plt.subplots(3, 3, figsize=(16, 12))\n",
        "axes = axes.flatten()\n",
        "colormap = plt.cm.get_cmap('viridis')\n",
        "\n",
        "for i, column in enumerate(columns_to_plot):\n",
        "    plt.sca(axes[i])\n",
        "\n",
        "    scatter = plt.scatter(df_da[column], df_da['streams'], c=df_da[column], cmap=colormap, alpha=0.5)\n",
        "\n",
        "    plt.xlabel(column, fontsize=12)\n",
        "    plt.ylabel('Streams', fontsize=12)\n",
        "    plt.title(f'Streams vs. {column}', fontsize=14)\n",
        "    plt.grid(True)\n",
        "    plt.colorbar(scatter, label=column)\n",
        "\n",
        "for j in range(len(columns_to_plot), len(axes)):\n",
        "    fig.delaxes(axes[j])\n",
        "\n",
        "plt.tight_layout()\n",
        "plt.show()\n"
      ],
      "metadata": {
        "_kg_hide-input": true,
        "execution": {
          "iopub.status.busy": "2023-10-21T04:06:47.93662Z",
          "iopub.execute_input": "2023-10-21T04:06:47.936956Z",
          "iopub.status.idle": "2023-10-21T04:06:50.019797Z",
          "shell.execute_reply.started": "2023-10-21T04:06:47.936917Z",
          "shell.execute_reply": "2023-10-21T04:06:50.018439Z"
        },
        "trusted": true,
        "id": "95Oajy2kQmMP"
      },
      "execution_count": null,
      "outputs": []
    },
    {
      "cell_type": "code",
      "source": [
        "df_da = df_da.merge(df[['key']], left_index=True, right_index=True, how='inner')\n",
        "df_da.head()"
      ],
      "metadata": {
        "execution": {
          "iopub.status.busy": "2023-10-21T04:06:50.021202Z",
          "iopub.execute_input": "2023-10-21T04:06:50.021491Z",
          "iopub.status.idle": "2023-10-21T04:06:50.051564Z",
          "shell.execute_reply.started": "2023-10-21T04:06:50.021465Z",
          "shell.execute_reply": "2023-10-21T04:06:50.050816Z"
        },
        "trusted": true,
        "id": "qbiP31V1QmMQ"
      },
      "execution_count": null,
      "outputs": []
    },
    {
      "cell_type": "code",
      "source": [
        "palette = sns.color_palette(\"Set2\", len(df_da['key'].unique()))\n",
        "\n",
        "sns.catplot(y=\"key\", x=\"streams\", data=df_da, aspect=2, palette=palette)\n",
        "plt.xlabel(\"Streams\", fontsize=20)\n",
        "plt.ylabel(\"Keys\", fontsize=20)\n",
        "plt.show()"
      ],
      "metadata": {
        "_kg_hide-input": true,
        "execution": {
          "iopub.status.busy": "2023-10-21T04:06:50.05274Z",
          "iopub.execute_input": "2023-10-21T04:06:50.054198Z",
          "iopub.status.idle": "2023-10-21T04:06:50.379508Z",
          "shell.execute_reply.started": "2023-10-21T04:06:50.054155Z",
          "shell.execute_reply": "2023-10-21T04:06:50.378026Z"
        },
        "trusted": true,
        "id": "4cVdYTAHQmMQ"
      },
      "execution_count": null,
      "outputs": []
    },
    {
      "cell_type": "code",
      "source": [
        "palette = sns.color_palette(\"Set2\", len(df_da['key'].unique()))\n",
        "\n",
        "sorted_keys = sorted(df_da['key'].unique())\n",
        "plt.figure(figsize=(12, 6))\n",
        "sns.boxplot(y=\"key\", x=\"streams\", data=df_da, order=sorted_keys, palette=palette)\n",
        "plt.xlabel(\"Streams\", fontsize=20)\n",
        "plt.ylabel(\"Keys\", fontsize=20)\n",
        "plt.title(\"Box Plot of Streams by Keys\", fontsize=20)\n",
        "plt.show()"
      ],
      "metadata": {
        "_kg_hide-input": true,
        "execution": {
          "iopub.status.busy": "2023-10-21T04:06:50.380877Z",
          "iopub.execute_input": "2023-10-21T04:06:50.381231Z",
          "iopub.status.idle": "2023-10-21T04:06:51.324183Z",
          "shell.execute_reply.started": "2023-10-21T04:06:50.381202Z",
          "shell.execute_reply": "2023-10-21T04:06:51.323191Z"
        },
        "trusted": true,
        "id": "fQdEvrzFQmMQ"
      },
      "execution_count": null,
      "outputs": []
    },
    {
      "cell_type": "code",
      "source": [
        "average_streams = df_da.groupby('key')['streams'].mean().sort_values(ascending=False).index.tolist()\n",
        "\n",
        "palette = sns.color_palette(\"Set2\", len(average_streams))\n",
        "\n",
        "plt.figure(figsize=(12, 6))\n",
        "sns.boxplot(y=\"key\", x=\"streams\", data=df_da, order=average_streams, palette=palette)\n",
        "plt.xlabel(\"Streams\", fontsize=20)\n",
        "plt.ylabel(\"Keys\", fontsize=20)\n",
        "plt.title(\"Box Plot of Streams by Keys (Sorted by Averaged Streams per Key)\", fontsize=20)\n",
        "plt.show()"
      ],
      "metadata": {
        "_kg_hide-input": true,
        "execution": {
          "iopub.status.busy": "2023-10-21T04:06:51.325381Z",
          "iopub.execute_input": "2023-10-21T04:06:51.325654Z",
          "iopub.status.idle": "2023-10-21T04:06:51.645745Z",
          "shell.execute_reply.started": "2023-10-21T04:06:51.325628Z",
          "shell.execute_reply": "2023-10-21T04:06:51.644652Z"
        },
        "trusted": true,
        "id": "VqEqt88_QmMQ"
      },
      "execution_count": null,
      "outputs": []
    },
    {
      "cell_type": "code",
      "source": [
        "plt.figure(figsize=(8, 6))\n",
        "sns.countplot(x=\"key\", data=df_da, palette=\"Set2\")\n",
        "plt.xlabel(\"Keys\", fontsize=14)\n",
        "plt.ylabel(\"Count\", fontsize=14)\n",
        "plt.title(\"Count of Each Key\", fontsize=16)\n",
        "plt.show()"
      ],
      "metadata": {
        "_kg_hide-input": true,
        "execution": {
          "iopub.status.busy": "2023-10-21T04:06:51.647491Z",
          "iopub.execute_input": "2023-10-21T04:06:51.647855Z",
          "iopub.status.idle": "2023-10-21T04:06:51.861271Z",
          "shell.execute_reply.started": "2023-10-21T04:06:51.647825Z",
          "shell.execute_reply": "2023-10-21T04:06:51.85927Z"
        },
        "trusted": true,
        "id": "LdHasHN0QmMQ"
      },
      "execution_count": null,
      "outputs": []
    },
    {
      "cell_type": "code",
      "source": [
        "key_counts = df_da['key'].value_counts().reset_index()\n",
        "key_counts.columns = ['Key', 'Count']\n",
        "\n",
        "total_count_key = key_counts['Count'].sum()\n",
        "total_row = pd.DataFrame({'Key': ['Total'], 'Count': [total_count_key]})\n",
        "key_counts = pd.concat([key_counts, total_row])\n",
        "\n",
        "#------------------------\n",
        "\n",
        "total_counts = df_da['key'].count()\n",
        "\n",
        "is_equal = total_counts == key_counts[key_counts['Key'] == 'Total']['Count'].values[0]\n",
        "print(\"Is total_count equal to 'Total'Key? \", is_equal)\n",
        "\n",
        "print(\"Total count of values in the 'key' column:\", total_counts)\n",
        "print(key_counts)\n"
      ],
      "metadata": {
        "_kg_hide-input": true,
        "execution": {
          "iopub.status.busy": "2023-10-21T04:06:51.86309Z",
          "iopub.execute_input": "2023-10-21T04:06:51.863419Z",
          "iopub.status.idle": "2023-10-21T04:06:51.875812Z",
          "shell.execute_reply.started": "2023-10-21T04:06:51.86339Z",
          "shell.execute_reply": "2023-10-21T04:06:51.875065Z"
        },
        "trusted": true,
        "id": "E-i53YyzQmMW"
      },
      "execution_count": null,
      "outputs": []
    },
    {
      "cell_type": "code",
      "source": [
        "key_counts = key_counts[key_counts['Key'] != 'Total']\n",
        "key_counts.info"
      ],
      "metadata": {
        "execution": {
          "iopub.status.busy": "2023-10-21T04:06:51.876905Z",
          "iopub.execute_input": "2023-10-21T04:06:51.877335Z",
          "iopub.status.idle": "2023-10-21T04:06:51.895406Z",
          "shell.execute_reply.started": "2023-10-21T04:06:51.877312Z",
          "shell.execute_reply": "2023-10-21T04:06:51.894104Z"
        },
        "trusted": true,
        "id": "pz2HkPMbQmMW"
      },
      "execution_count": null,
      "outputs": []
    },
    {
      "cell_type": "code",
      "source": [
        "df_da.columns = df_da.columns.str.lower()\n",
        "key_counts.columns = key_counts.columns.str.lower()"
      ],
      "metadata": {
        "execution": {
          "iopub.status.busy": "2023-10-21T04:06:51.896595Z",
          "iopub.execute_input": "2023-10-21T04:06:51.896861Z",
          "iopub.status.idle": "2023-10-21T04:06:51.909343Z",
          "shell.execute_reply.started": "2023-10-21T04:06:51.896838Z",
          "shell.execute_reply": "2023-10-21T04:06:51.908031Z"
        },
        "trusted": true,
        "id": "zV5JwAuOQmMW"
      },
      "execution_count": null,
      "outputs": []
    },
    {
      "cell_type": "code",
      "source": [
        "merged_df = key_counts.merge(df_da, on='key')\n",
        "result_df = merged_df.groupby('key')['streams'].agg(['mean', 'min', 'max']).reset_index()\n",
        "result_df = result_df.rename(columns={'mean': 'avg_streams', 'min': 'min_streams', 'max': 'max_streams'})"
      ],
      "metadata": {
        "execution": {
          "iopub.status.busy": "2023-10-21T04:06:51.91139Z",
          "iopub.execute_input": "2023-10-21T04:06:51.911897Z",
          "iopub.status.idle": "2023-10-21T04:06:51.939477Z",
          "shell.execute_reply.started": "2023-10-21T04:06:51.911853Z",
          "shell.execute_reply": "2023-10-21T04:06:51.938361Z"
        },
        "trusted": true,
        "id": "p5KGxZQVQmMW"
      },
      "execution_count": null,
      "outputs": []
    },
    {
      "cell_type": "code",
      "source": [
        "result_df.head()"
      ],
      "metadata": {
        "execution": {
          "iopub.status.busy": "2023-10-21T04:06:51.940794Z",
          "iopub.execute_input": "2023-10-21T04:06:51.941161Z",
          "iopub.status.idle": "2023-10-21T04:06:51.95504Z",
          "shell.execute_reply.started": "2023-10-21T04:06:51.941136Z",
          "shell.execute_reply": "2023-10-21T04:06:51.95326Z"
        },
        "trusted": true,
        "id": "vnSwj61oQmMX"
      },
      "execution_count": null,
      "outputs": []
    },
    {
      "cell_type": "code",
      "source": [
        "sorted_df = df_da.sort_values(by='streams')\n",
        "lowest_10 = sorted_df.head(10)\n",
        "\n",
        "print(\"10 Lowest Values:\")\n",
        "print(lowest_10[['key', 'streams']])\n"
      ],
      "metadata": {
        "_kg_hide-input": true,
        "execution": {
          "iopub.status.busy": "2023-10-21T04:06:51.957404Z",
          "iopub.execute_input": "2023-10-21T04:06:51.957829Z",
          "iopub.status.idle": "2023-10-21T04:06:51.971755Z",
          "shell.execute_reply.started": "2023-10-21T04:06:51.957792Z",
          "shell.execute_reply": "2023-10-21T04:06:51.970421Z"
        },
        "trusted": true,
        "id": "4rGaVq4AQmMX"
      },
      "execution_count": null,
      "outputs": []
    },
    {
      "cell_type": "code",
      "source": [
        "# Bar Chart\n",
        "plt.figure(figsize=(10, 6))\n",
        "sns.barplot(x='key', y='avg_streams', data=result_df)\n",
        "plt.title('Average Streams by Key')\n",
        "plt.xticks(rotation=45)\n",
        "plt.show()\n",
        "\n",
        "# Line Chart\n",
        "plt.figure(figsize=(10, 6))\n",
        "sns.lineplot(x='key', y='value', hue='variable', data=pd.melt(result_df, id_vars='key'))\n",
        "plt.title('Average, Minimum, and Maximum Streams by Key')\n",
        "plt.xticks(rotation=45)\n",
        "plt.show()\n",
        "\n",
        "# Scat Plot\n",
        "plt.figure(figsize=(10, 6))\n",
        "sns.scatterplot(x='avg_streams', y='min_streams', hue='key', data=result_df)\n",
        "plt.title('Scatter Plot of Average vs. Minimum Streams by Key')\n",
        "plt.show()\n",
        "\n"
      ],
      "metadata": {
        "_kg_hide-input": true,
        "execution": {
          "iopub.status.busy": "2023-10-21T04:06:51.973078Z",
          "iopub.execute_input": "2023-10-21T04:06:51.973426Z",
          "iopub.status.idle": "2023-10-21T04:06:52.904818Z",
          "shell.execute_reply.started": "2023-10-21T04:06:51.973402Z",
          "shell.execute_reply": "2023-10-21T04:06:52.903284Z"
        },
        "trusted": true,
        "id": "-UdEuo7sQmMX"
      },
      "execution_count": null,
      "outputs": []
    },
    {
      "cell_type": "code",
      "source": [
        "keys = result_df['key']\n",
        "avg_streams = result_df['avg_streams']\n",
        "min_streams = result_df['min_streams']\n",
        "max_streams = result_df['max_streams']\n",
        "\n",
        "bar_width = 0.25\n",
        "\n",
        "# indexes x-axis\n",
        "x_indexes = np.arange(len(keys))\n",
        "\n",
        "plt.bar(x_indexes - bar_width, avg_streams, width=bar_width, label='Average Streams')\n",
        "plt.bar(x_indexes, min_streams, width=bar_width, label='Minimum Streams')\n",
        "plt.bar(x_indexes + bar_width, max_streams, width=bar_width, label='Maximum Streams')\n",
        "\n",
        "plt.plot(x_indexes, avg_streams, marker='o', linestyle='-', color='b', label='Average Streams Line')\n",
        "plt.xticks(x_indexes, keys)\n",
        "plt.xlabel('Keys')\n",
        "plt.ylabel('Streams')\n",
        "plt.title('Average, Minimum, and Maximum Streams by Key')\n",
        "plt.legend()\n",
        "plt.tight_layout()\n",
        "plt.show()\n"
      ],
      "metadata": {
        "_kg_hide-input": true,
        "execution": {
          "iopub.status.busy": "2023-10-21T04:06:52.907129Z",
          "iopub.execute_input": "2023-10-21T04:06:52.907617Z",
          "iopub.status.idle": "2023-10-21T04:06:53.228355Z",
          "shell.execute_reply.started": "2023-10-21T04:06:52.907578Z",
          "shell.execute_reply": "2023-10-21T04:06:53.226488Z"
        },
        "trusted": true,
        "id": "48-vFD0QQmMX"
      },
      "execution_count": null,
      "outputs": []
    },
    {
      "cell_type": "code",
      "source": [
        "df_da.columns"
      ],
      "metadata": {
        "execution": {
          "iopub.status.busy": "2023-10-21T04:06:53.229807Z",
          "iopub.execute_input": "2023-10-21T04:06:53.230123Z",
          "iopub.status.idle": "2023-10-21T04:06:53.239648Z",
          "shell.execute_reply.started": "2023-10-21T04:06:53.2301Z",
          "shell.execute_reply": "2023-10-21T04:06:53.237995Z"
        },
        "trusted": true,
        "id": "7Q2LPmi1QmMX"
      },
      "execution_count": null,
      "outputs": []
    },
    {
      "cell_type": "code",
      "source": [
        "df_da.shape"
      ],
      "metadata": {
        "execution": {
          "iopub.status.busy": "2023-10-21T04:06:53.241456Z",
          "iopub.execute_input": "2023-10-21T04:06:53.242323Z",
          "iopub.status.idle": "2023-10-21T04:06:53.251058Z",
          "shell.execute_reply.started": "2023-10-21T04:06:53.242287Z",
          "shell.execute_reply": "2023-10-21T04:06:53.250139Z"
        },
        "trusted": true,
        "id": "LL5o9Lw4QmMX"
      },
      "execution_count": null,
      "outputs": []
    },
    {
      "cell_type": "code",
      "source": [
        "columns_to_plot = ['bpm', 'danceability', 'valence', 'energy', 'acousticness', 'instrumentalness', 'liveness', 'speechiness']\n",
        "\n",
        "unique_keys = df_da['key'].unique()\n",
        "\n",
        "fig, axes = plt.subplots(3, 3, figsize=(16, 12))\n",
        "axes = axes.flatten()\n",
        "\n",
        "for i, column in enumerate(columns_to_plot):\n",
        "    for key in unique_keys:\n",
        "        plt.sca(axes[i])\n",
        "        plt.scatter(df_da[df_da['key'] == key][column], df_da[df_da['key'] == key]['streams'], label=key, alpha=0.5)\n",
        "        plt.xlabel(column, fontsize=12)\n",
        "        plt.ylabel('Streams', fontsize=12)\n",
        "        plt.title(f'Streams vs. {column}', fontsize=14)\n",
        "        plt.grid(True)\n",
        "        plt.legend(title='Key', loc='upper right', bbox_to_anchor=(1.2, 1))\n",
        "\n",
        "for j in range(len(unique_keys), len(axes)):\n",
        "    fig.delaxes(axes[j])\n",
        "\n",
        "plt.tight_layout()\n",
        "plt.show()\n"
      ],
      "metadata": {
        "_kg_hide-input": true,
        "execution": {
          "iopub.status.busy": "2023-10-21T04:06:53.252379Z",
          "iopub.execute_input": "2023-10-21T04:06:53.252686Z",
          "iopub.status.idle": "2023-10-21T04:06:57.32221Z",
          "shell.execute_reply.started": "2023-10-21T04:06:53.252663Z",
          "shell.execute_reply": "2023-10-21T04:06:57.321152Z"
        },
        "trusted": true,
        "id": "WEQFmgIkQmMX"
      },
      "execution_count": null,
      "outputs": []
    },
    {
      "cell_type": "code",
      "source": [
        "columns_to_plot = ['bpm', 'danceability', 'valence', 'energy', 'acousticness', 'instrumentalness', 'liveness', 'speechiness']\n",
        "\n",
        "unique_keys = df_da['key'].unique()\n",
        "\n",
        "fig, axes = plt.subplots(3, 3, figsize=(16, 12))\n",
        "axes = axes.flatten()\n",
        "\n",
        "for i, column in enumerate(columns_to_plot):\n",
        "    for key in unique_keys:\n",
        "        plt.sca(axes[i])\n",
        "        plt.scatter(df_da[df_da['key'] == key]['key'], df_da[df_da['key'] == key][column], label=key, alpha=0.5)\n",
        "        plt.xlabel('Key', fontsize=12)\n",
        "        plt.ylabel(column, fontsize=12)\n",
        "        plt.title(f'{column} vs. Key', fontsize=14)\n",
        "        plt.grid(True)\n",
        "        plt.legend(title='Key', loc='upper right', bbox_to_anchor=(1.2, 1))\n",
        "\n",
        "for j in range(len(unique_keys), len(axes)):\n",
        "    fig.delaxes(axes[j])\n",
        "\n",
        "plt.tight_layout()\n",
        "plt.show()\n"
      ],
      "metadata": {
        "_kg_hide-input": true,
        "execution": {
          "iopub.status.busy": "2023-10-21T04:06:57.324238Z",
          "iopub.execute_input": "2023-10-21T04:06:57.324619Z",
          "iopub.status.idle": "2023-10-21T04:07:01.667976Z",
          "shell.execute_reply.started": "2023-10-21T04:06:57.324587Z",
          "shell.execute_reply": "2023-10-21T04:07:01.666425Z"
        },
        "trusted": true,
        "id": "Wz_E5RPcQmMX"
      },
      "execution_count": null,
      "outputs": []
    },
    {
      "cell_type": "code",
      "source": [
        "columns_to_plot = ['danceability', 'valence', 'energy', 'acousticness', 'instrumentalness', 'liveness', 'speechiness']\n",
        "\n",
        "fig, axes = plt.subplots(3, 3, figsize=(16, 12))\n",
        "axes = axes.flatten()\n",
        "\n",
        "colormap = plt.cm.get_cmap('viridis')\n",
        "\n",
        "for i, column in enumerate(columns_to_plot):\n",
        "    plt.sca(axes[i])\n",
        "\n",
        "    scatter = plt.scatter(df_da['bpm'], df_da[column], c=df_da[column], cmap=colormap, alpha=0.5)\n",
        "\n",
        "    plt.xlabel('BPM', fontsize=12)\n",
        "    plt.ylabel(column, fontsize=12)\n",
        "    plt.title(f'{column} vs. BPM', fontsize=14)\n",
        "    plt.grid(True)\n",
        "    plt.colorbar(scatter, label=column)\n",
        "\n",
        "for j in range(len(columns_to_plot), len(axes)):\n",
        "    fig.delaxes(axes[j])\n",
        "\n",
        "plt.tight_layout()\n",
        "plt.show()\n"
      ],
      "metadata": {
        "_kg_hide-input": true,
        "execution": {
          "iopub.status.busy": "2023-10-21T04:07:01.669902Z",
          "iopub.execute_input": "2023-10-21T04:07:01.670254Z",
          "iopub.status.idle": "2023-10-21T04:07:03.775198Z",
          "shell.execute_reply.started": "2023-10-21T04:07:01.670227Z",
          "shell.execute_reply": "2023-10-21T04:07:03.773662Z"
        },
        "trusted": true,
        "id": "IGTVYw3hQmMX"
      },
      "execution_count": null,
      "outputs": []
    },
    {
      "cell_type": "code",
      "source": [
        "columns_to_plot = ['valence', 'energy', 'acousticness', 'instrumentalness', 'liveness', 'speechiness']\n",
        "\n",
        "fig, axes = plt.subplots(3, 2, figsize=(16, 12))\n",
        "axes = axes.flatten()\n",
        "\n",
        "colormap = plt.cm.get_cmap('viridis')\n",
        "\n",
        "for i, column in enumerate(columns_to_plot):\n",
        "    plt.sca(axes[i])\n",
        "\n",
        "    scatter = plt.scatter(df_da[column], df_da['danceability'], c=df_da['danceability'], cmap=colormap, alpha=0.5)\n",
        "\n",
        "    plt.xlabel(column, fontsize=12)\n",
        "    plt.ylabel('Danceability', fontsize=12)\n",
        "    plt.title(f'Danceability vs. {column}', fontsize=14)\n",
        "    plt.grid(True)\n",
        "    plt.colorbar(scatter, label='Danceability')\n",
        "\n",
        "for j in range(len(columns_to_plot), len(axes)):\n",
        "    fig.delaxes(axes[j])\n",
        "\n",
        "plt.tight_layout()\n",
        "plt.show()\n"
      ],
      "metadata": {
        "_kg_hide-input": true,
        "execution": {
          "iopub.status.busy": "2023-10-21T04:07:03.777162Z",
          "iopub.execute_input": "2023-10-21T04:07:03.777528Z",
          "iopub.status.idle": "2023-10-21T04:07:05.930345Z",
          "shell.execute_reply.started": "2023-10-21T04:07:03.777501Z",
          "shell.execute_reply": "2023-10-21T04:07:05.928468Z"
        },
        "trusted": true,
        "id": "3JCzSuojQmMX"
      },
      "execution_count": null,
      "outputs": []
    },
    {
      "cell_type": "code",
      "source": [
        "columns_to_plot = ['energy', 'acousticness', 'instrumentalness', 'liveness', 'speechiness']\n",
        "\n",
        "fig, axes = plt.subplots(3, 3, figsize=(16, 12))\n",
        "axes = axes.flatten()\n",
        "\n",
        "colormap = plt.cm.get_cmap('viridis')\n",
        "\n",
        "for i, column in enumerate(columns_to_plot):\n",
        "    plt.sca(axes[i])\n",
        "\n",
        "    scatter = plt.scatter(df_da[column], df_da['valence'], c=df_da['valence'], cmap=colormap, alpha=0.5)\n",
        "\n",
        "    plt.xlabel(column, fontsize=12)\n",
        "    plt.ylabel('Valence', fontsize=12)\n",
        "    plt.title(f'{column} vs. Valence', fontsize=14)\n",
        "    plt.grid(True)\n",
        "    plt.colorbar(scatter, label='Valence')\n",
        "\n",
        "for j in range(len(columns_to_plot), len(axes)):\n",
        "    fig.delaxes(axes[j])\n",
        "\n",
        "plt.tight_layout()\n",
        "plt.show()\n"
      ],
      "metadata": {
        "_kg_hide-input": true,
        "execution": {
          "iopub.status.busy": "2023-10-21T04:07:05.931637Z",
          "iopub.execute_input": "2023-10-21T04:07:05.931995Z",
          "iopub.status.idle": "2023-10-21T04:07:07.630082Z",
          "shell.execute_reply.started": "2023-10-21T04:07:05.931959Z",
          "shell.execute_reply": "2023-10-21T04:07:07.628805Z"
        },
        "trusted": true,
        "id": "zI8lHmiLQmMX"
      },
      "execution_count": null,
      "outputs": []
    },
    {
      "cell_type": "code",
      "source": [
        "columns_to_plot = ['acousticness', 'instrumentalness', 'liveness', 'speechiness']\n",
        "\n",
        "fig, axes = plt.subplots(3, 3, figsize=(16, 12))\n",
        "axes = axes.flatten()\n",
        "\n",
        "colormap = plt.cm.get_cmap('viridis')\n",
        "\n",
        "for i, column in enumerate(columns_to_plot):\n",
        "    plt.sca(axes[i])\n",
        "\n",
        "    scatter = plt.scatter(df_da['energy'], df_da[column], c=df_da['energy'], cmap=colormap, alpha=0.5)\n",
        "\n",
        "    plt.xlabel('Energy', fontsize=12)\n",
        "    plt.ylabel(column, fontsize=12)\n",
        "    plt.title(f'{column} vs. Energy', fontsize=14)\n",
        "    plt.grid(True)\n",
        "\n",
        "    plt.colorbar(scatter, label='Energy')\n",
        "\n",
        "for j in range(len(columns_to_plot), len(axes)):\n",
        "    fig.delaxes(axes[j])\n",
        "\n",
        "plt.tight_layout()\n",
        "plt.show()\n"
      ],
      "metadata": {
        "_kg_hide-input": true,
        "execution": {
          "iopub.status.busy": "2023-10-21T04:07:07.631782Z",
          "iopub.execute_input": "2023-10-21T04:07:07.632144Z",
          "iopub.status.idle": "2023-10-21T04:07:08.890552Z",
          "shell.execute_reply.started": "2023-10-21T04:07:07.632114Z",
          "shell.execute_reply": "2023-10-21T04:07:08.889181Z"
        },
        "trusted": true,
        "id": "ih3J3vl9QmMX"
      },
      "execution_count": null,
      "outputs": []
    },
    {
      "cell_type": "code",
      "source": [
        "columns_to_plot = ['instrumentalness', 'liveness', 'speechiness']\n",
        "\n",
        "fig, axes = plt.subplots(3, 3, figsize=(16, 12))\n",
        "axes = axes.flatten()\n",
        "\n",
        "colormap = plt.cm.get_cmap('viridis')\n",
        "\n",
        "for i, column in enumerate(columns_to_plot):\n",
        "    plt.sca(axes[i])\n",
        "\n",
        "    scatter = plt.scatter(df_da['acousticness'], df_da[column], c=df_da['acousticness'], cmap=colormap, alpha=0.5)\n",
        "\n",
        "    plt.xlabel('Acousticness', fontsize=12)\n",
        "    plt.ylabel(column, fontsize=12)\n",
        "    plt.title(f'{column} vs. Acousticness', fontsize=14)\n",
        "    plt.grid(True)\n",
        "    plt.colorbar(scatter, label='Acousticness')\n",
        "\n",
        "for j in range(len(columns_to_plot), len(axes)):\n",
        "    fig.delaxes(axes[j])\n",
        "\n",
        "plt.tight_layout()\n",
        "plt.show()\n"
      ],
      "metadata": {
        "_kg_hide-input": true,
        "execution": {
          "iopub.status.busy": "2023-10-21T04:07:08.891998Z",
          "iopub.execute_input": "2023-10-21T04:07:08.892315Z",
          "iopub.status.idle": "2023-10-21T04:07:09.851326Z",
          "shell.execute_reply.started": "2023-10-21T04:07:08.892287Z",
          "shell.execute_reply": "2023-10-21T04:07:09.849838Z"
        },
        "trusted": true,
        "id": "SHhCyhNTQmMX"
      },
      "execution_count": null,
      "outputs": []
    },
    {
      "cell_type": "code",
      "source": [
        "columns_to_plot = ['liveness', 'speechiness']\n",
        "\n",
        "fig, axes = plt.subplots(3, 3, figsize=(12, 10))\n",
        "axes = axes.flatten()\n",
        "\n",
        "colormap = plt.cm.get_cmap('viridis')\n",
        "\n",
        "for i, column in enumerate(columns_to_plot):\n",
        "    plt.sca(axes[i])\n",
        "\n",
        "    scatter = plt.scatter(df_da['instrumentalness'], df_da[column], c=df_da['instrumentalness'], cmap=colormap, alpha=0.5)\n",
        "\n",
        "    plt.xlabel('Instrumentalness', fontsize=12)\n",
        "    plt.ylabel(column, fontsize=12)\n",
        "    plt.title(f'{column} vs. Instrumentalness', fontsize=14)\n",
        "    plt.grid(True)\n",
        "    plt.colorbar(scatter, label='Instrumentalness')\n",
        "\n",
        "for j in range(len(columns_to_plot), len(axes)):\n",
        "    fig.delaxes(axes[j])\n",
        "\n",
        "plt.tight_layout()\n",
        "plt.show()\n"
      ],
      "metadata": {
        "_kg_hide-input": true,
        "execution": {
          "iopub.status.busy": "2023-10-21T04:07:09.85278Z",
          "iopub.execute_input": "2023-10-21T04:07:09.853128Z",
          "iopub.status.idle": "2023-10-21T04:07:10.748094Z",
          "shell.execute_reply.started": "2023-10-21T04:07:09.853098Z",
          "shell.execute_reply": "2023-10-21T04:07:10.746448Z"
        },
        "trusted": true,
        "id": "GR4fgtgxQmMX"
      },
      "execution_count": null,
      "outputs": []
    },
    {
      "cell_type": "code",
      "source": [
        "columns_to_plot = ['speechiness']\n",
        "\n",
        "fig, axes = plt.subplots(3, 3, figsize=(12, 10))\n",
        "axes = axes.flatten()\n",
        "\n",
        "colormap = plt.cm.get_cmap('viridis')\n",
        "\n",
        "for i, column in enumerate(columns_to_plot):\n",
        "    plt.sca(axes[i])\n",
        "    scatter = plt.scatter(df_da['liveness'], df_da[column], c=df_da['liveness'], cmap=colormap, alpha=0.5)\n",
        "\n",
        "    plt.xlabel('Liveness', fontsize=12)\n",
        "    plt.ylabel(column, fontsize=12)\n",
        "    plt.title(f'{column} vs. Liveness', fontsize=14)\n",
        "    plt.grid(True)\n",
        "    plt.colorbar(scatter, label='Liveness')\n",
        "\n",
        "for j in range(len(columns_to_plot), len(axes)):\n",
        "    fig.delaxes(axes[j])\n",
        "\n",
        "plt.tight_layout()\n",
        "plt.show()\n"
      ],
      "metadata": {
        "_kg_hide-input": true,
        "execution": {
          "iopub.status.busy": "2023-10-21T04:07:10.74956Z",
          "iopub.execute_input": "2023-10-21T04:07:10.749979Z",
          "iopub.status.idle": "2023-10-21T04:07:11.192407Z",
          "shell.execute_reply.started": "2023-10-21T04:07:10.749943Z",
          "shell.execute_reply": "2023-10-21T04:07:11.191331Z"
        },
        "trusted": true,
        "id": "n55UDXcYQmMX"
      },
      "execution_count": null,
      "outputs": []
    },
    {
      "cell_type": "code",
      "source": [
        "bpm = df_da['bpm']\n",
        "danceability = df_da['danceability']\n",
        "streams = df_da['streams']\n",
        "\n",
        "fig = plt.figure(figsize=(10, 8))\n",
        "ax = fig.add_subplot(111, projection='3d')\n",
        "\n",
        "ax.scatter(bpm, danceability, streams, c=streams, cmap='viridis', marker='o')\n",
        "ax.set_xlabel('BPM')\n",
        "ax.set_ylabel('Danceability')\n",
        "ax.set_zlabel('Streams')\n",
        "\n",
        "cbar = fig.colorbar(ax.scatter(bpm, danceability, streams, c=streams, cmap='viridis', marker='o'), ax=ax)\n",
        "cbar.set_label('Streams', rotation=90)\n",
        "plt.title('3D Scatter Plot: BPM vs. Danceability vs. Streams')\n",
        "plt.show()"
      ],
      "metadata": {
        "_kg_hide-input": true,
        "execution": {
          "iopub.status.busy": "2023-10-21T04:07:11.193689Z",
          "iopub.execute_input": "2023-10-21T04:07:11.194763Z",
          "iopub.status.idle": "2023-10-21T04:07:11.528533Z",
          "shell.execute_reply.started": "2023-10-21T04:07:11.194722Z",
          "shell.execute_reply": "2023-10-21T04:07:11.527367Z"
        },
        "trusted": true,
        "id": "BSWmk91dQmMY"
      },
      "execution_count": null,
      "outputs": []
    },
    {
      "cell_type": "code",
      "source": [
        "df_da.columns"
      ],
      "metadata": {
        "execution": {
          "iopub.status.busy": "2023-10-21T04:07:11.529843Z",
          "iopub.execute_input": "2023-10-21T04:07:11.530999Z",
          "iopub.status.idle": "2023-10-21T04:07:11.539007Z",
          "shell.execute_reply.started": "2023-10-21T04:07:11.530951Z",
          "shell.execute_reply": "2023-10-21T04:07:11.53799Z"
        },
        "trusted": true,
        "id": "lT2i77UBQmMY"
      },
      "execution_count": null,
      "outputs": []
    },
    {
      "cell_type": "code",
      "source": [
        "top_10_songs = df_da.nlargest(10, 'streams')\n",
        "top_10_songs.describe()"
      ],
      "metadata": {
        "_kg_hide-input": true,
        "execution": {
          "iopub.status.busy": "2023-10-21T04:07:11.540477Z",
          "iopub.execute_input": "2023-10-21T04:07:11.540993Z",
          "iopub.status.idle": "2023-10-21T04:07:11.615222Z",
          "shell.execute_reply.started": "2023-10-21T04:07:11.540968Z",
          "shell.execute_reply": "2023-10-21T04:07:11.613809Z"
        },
        "trusted": true,
        "id": "DG-01envQmMY"
      },
      "execution_count": null,
      "outputs": []
    },
    {
      "cell_type": "code",
      "source": [
        "top_50_songs = df_da.nlargest(50, 'streams')\n",
        "top_50_songs.describe()"
      ],
      "metadata": {
        "_kg_hide-input": true,
        "execution": {
          "iopub.status.busy": "2023-10-21T04:07:11.616687Z",
          "iopub.execute_input": "2023-10-21T04:07:11.617113Z",
          "iopub.status.idle": "2023-10-21T04:07:11.683059Z",
          "shell.execute_reply.started": "2023-10-21T04:07:11.61708Z",
          "shell.execute_reply": "2023-10-21T04:07:11.680428Z"
        },
        "trusted": true,
        "id": "t9w3qFJMQmMY"
      },
      "execution_count": null,
      "outputs": []
    },
    {
      "cell_type": "code",
      "source": [
        "top_100_songs = df_da.nlargest(100, 'streams')\n",
        "top_100_songs.describe()\n"
      ],
      "metadata": {
        "_kg_hide-input": true,
        "execution": {
          "iopub.status.busy": "2023-10-21T04:07:11.684983Z",
          "iopub.execute_input": "2023-10-21T04:07:11.68542Z",
          "iopub.status.idle": "2023-10-21T04:07:11.755212Z",
          "shell.execute_reply.started": "2023-10-21T04:07:11.685385Z",
          "shell.execute_reply": "2023-10-21T04:07:11.75353Z"
        },
        "trusted": true,
        "id": "fjMwMHISQmMY"
      },
      "execution_count": null,
      "outputs": []
    },
    {
      "cell_type": "code",
      "source": [
        "df_da.shape"
      ],
      "metadata": {
        "execution": {
          "iopub.status.busy": "2023-10-21T04:07:11.756499Z",
          "iopub.execute_input": "2023-10-21T04:07:11.756887Z",
          "iopub.status.idle": "2023-10-21T04:07:11.768523Z",
          "shell.execute_reply.started": "2023-10-21T04:07:11.756786Z",
          "shell.execute_reply": "2023-10-21T04:07:11.766798Z"
        },
        "trusted": true,
        "id": "UzJH17MfQmMY"
      },
      "execution_count": null,
      "outputs": []
    },
    {
      "cell_type": "code",
      "source": [
        "top_200_songs = df_da.nlargest(200, 'streams')\n",
        "top_500_songs = df_da.nlargest(500, 'streams')\n",
        "top_700_songs = df_da.nlargest(700, 'streams')\n",
        "top_817_songs = df_da.nlargest(817, 'streams')\n",
        "\n",
        "last_10_songs = df_da.nsmallest(10, 'streams')\n",
        "last_50_songs = df_da.nsmallest(50, 'streams')\n",
        "last_100_songs = df_da.nsmallest(100, 'streams')\n",
        "last_200_songs = df_da.nsmallest(200, 'streams')\n",
        "last_500_songs = df_da.nsmallest(500, 'streams')\n"
      ],
      "metadata": {
        "execution": {
          "iopub.status.busy": "2023-10-21T04:07:11.769887Z",
          "iopub.execute_input": "2023-10-21T04:07:11.770238Z",
          "iopub.status.idle": "2023-10-21T04:07:11.799093Z",
          "shell.execute_reply.started": "2023-10-21T04:07:11.77021Z",
          "shell.execute_reply": "2023-10-21T04:07:11.797582Z"
        },
        "trusted": true,
        "id": "ULViVxWBQmMY"
      },
      "execution_count": null,
      "outputs": []
    },
    {
      "cell_type": "markdown",
      "source": [
        "## Analysis --> Keys"
      ],
      "metadata": {
        "id": "ZAtfq_CCQmMY"
      }
    },
    {
      "cell_type": "code",
      "source": [
        "key_colors = {\n",
        "    'key_a': 'red',\n",
        "    'key_a#': 'blue',\n",
        "    'key_b': 'green',\n",
        "    'key_c#': 'purple',\n",
        "    'key_d': 'orange',\n",
        "    'key_d#': 'cyan',\n",
        "    'key_e': 'magenta',\n",
        "    'key_f': 'yellow',\n",
        "    'key_f#': 'lime',\n",
        "    'key_g': 'pink',\n",
        "    'key_g#': 'brown'\n",
        "}\n",
        "\n",
        "key_columns = ['key_a', 'key_a#', 'key_b', 'key_c#', 'key_d', 'key_d#', 'key_e', 'key_f', 'key_f#', 'key_g', 'key_g#']"
      ],
      "metadata": {
        "execution": {
          "iopub.status.busy": "2023-10-21T04:07:11.800969Z",
          "iopub.execute_input": "2023-10-21T04:07:11.801288Z",
          "iopub.status.idle": "2023-10-21T04:07:11.808481Z",
          "shell.execute_reply.started": "2023-10-21T04:07:11.801264Z",
          "shell.execute_reply": "2023-10-21T04:07:11.80674Z"
        },
        "trusted": true,
        "id": "d2OP9x0bQmMY"
      },
      "execution_count": null,
      "outputs": []
    },
    {
      "cell_type": "code",
      "source": [
        "df_da.shape"
      ],
      "metadata": {
        "execution": {
          "iopub.status.busy": "2023-10-21T04:07:11.810158Z",
          "iopub.execute_input": "2023-10-21T04:07:11.810687Z",
          "iopub.status.idle": "2023-10-21T04:07:11.824225Z",
          "shell.execute_reply.started": "2023-10-21T04:07:11.810656Z",
          "shell.execute_reply": "2023-10-21T04:07:11.823269Z"
        },
        "trusted": true,
        "id": "nyDld_WLQmMY"
      },
      "execution_count": null,
      "outputs": []
    },
    {
      "cell_type": "code",
      "source": [
        "#df_da2=df_da.copy()"
      ],
      "metadata": {
        "_kg_hide-input": true,
        "execution": {
          "iopub.status.busy": "2023-10-21T04:07:11.825122Z",
          "iopub.execute_input": "2023-10-21T04:07:11.825393Z",
          "iopub.status.idle": "2023-10-21T04:07:11.837743Z",
          "shell.execute_reply.started": "2023-10-21T04:07:11.825368Z",
          "shell.execute_reply": "2023-10-21T04:07:11.836784Z"
        },
        "trusted": true,
        "id": "I0kai3XlQmMY"
      },
      "execution_count": null,
      "outputs": []
    },
    {
      "cell_type": "code",
      "source": [
        "#df_da = df_da2.copy()"
      ],
      "metadata": {
        "_kg_hide-input": true,
        "execution": {
          "iopub.status.busy": "2023-10-21T04:07:11.840084Z",
          "iopub.execute_input": "2023-10-21T04:07:11.840503Z",
          "iopub.status.idle": "2023-10-21T04:07:11.854176Z",
          "shell.execute_reply.started": "2023-10-21T04:07:11.840468Z",
          "shell.execute_reply": "2023-10-21T04:07:11.853174Z"
        },
        "trusted": true,
        "id": "MZ7Z7b4kQmMY"
      },
      "execution_count": null,
      "outputs": []
    },
    {
      "cell_type": "code",
      "source": [
        "key_df = df_da[key_columns]\n",
        "\n",
        "key_counts = key_df.eq(1).sum()\n",
        "\n",
        "plt.figure(figsize=(5, 5))\n",
        "plt.pie(key_counts, labels=None, autopct='%1.1f%%', startangle=140, colors=[key_colors[key] for key in key_counts.index])\n",
        "plt.title('Overall Keys Distribution')\n",
        "plt.axis('equal')\n",
        "\n",
        "legend_labels = [key + f\" ({key_counts[key]})\" for key in key_counts.index]\n",
        "legend_patches = [plt.Line2D([0], [0], marker='o', color='w', label=label, markersize=10, markerfacecolor=key_colors[key]) for label, key in zip(legend_labels, key_counts.index)]\n",
        "plt.legend(handles=legend_patches, loc='center left', bbox_to_anchor=(1, 0.5), title='Total Keys')\n",
        "\n",
        "plt.show()\n",
        "\n",
        "\n"
      ],
      "metadata": {
        "_kg_hide-input": true,
        "execution": {
          "iopub.status.busy": "2023-10-21T04:07:11.855326Z",
          "iopub.execute_input": "2023-10-21T04:07:11.855654Z",
          "iopub.status.idle": "2023-10-21T04:07:12.098538Z",
          "shell.execute_reply.started": "2023-10-21T04:07:11.855626Z",
          "shell.execute_reply": "2023-10-21T04:07:12.097797Z"
        },
        "trusted": true,
        "id": "eED4x_1NQmMY"
      },
      "execution_count": null,
      "outputs": []
    },
    {
      "cell_type": "code",
      "source": [
        "dataframes = [top_10_songs, top_50_songs, top_100_songs]\n",
        "\n",
        "chart_titles = ['Top 10 Songs Keys Distribution', 'Top 50 Songs Keys Distribution', 'Top 100 Songs Keys Distribution']\n",
        "\n",
        "fig, axes = plt.subplots(1, len(dataframes), figsize=(15, 5))\n",
        "\n",
        "for i, (df_da_copy, title) in enumerate(zip(dataframes, chart_titles)):\n",
        "    key_df = df_da_copy[key_columns]\n",
        "\n",
        "    key_counts = key_df.eq(1).sum()\n",
        "\n",
        "    key_counts_filtered = key_counts[key_counts > 0]\n",
        "\n",
        "    ax = axes[i]\n",
        "    ax.pie(key_counts_filtered, labels=None, autopct='%1.1f%%', startangle=140, colors=[key_colors[key] for key in key_counts_filtered.index])\n",
        "    ax.set_title(title)\n",
        "    ax.axis('equal')\n",
        "\n",
        "legend_labels = [key + f\" ({key_counts_filtered[key]})\" for key in key_counts_filtered.index]\n",
        "legend_patches = [plt.Line2D([0], [0], marker='o', color='w', label=label, markersize=10, markerfacecolor=key_colors[key]) for label, key in zip(legend_labels, key_counts_filtered.index)]\n",
        "fig.legend(handles=legend_patches, loc='upper right', title='Top 100 Keys', bbox_to_anchor=(1.15, 1))\n",
        "\n",
        "plt.tight_layout()\n",
        "plt.show()\n"
      ],
      "metadata": {
        "_kg_hide-input": true,
        "execution": {
          "iopub.status.busy": "2023-10-21T04:07:12.099514Z",
          "iopub.execute_input": "2023-10-21T04:07:12.099982Z",
          "iopub.status.idle": "2023-10-21T04:07:12.62755Z",
          "shell.execute_reply.started": "2023-10-21T04:07:12.099954Z",
          "shell.execute_reply": "2023-10-21T04:07:12.626676Z"
        },
        "trusted": true,
        "id": "llHJBchBQmMY"
      },
      "execution_count": null,
      "outputs": []
    },
    {
      "cell_type": "code",
      "source": [
        "dataframes = [top_10_songs, top_50_songs, top_100_songs, top_200_songs, top_500_songs, top_700_songs, top_817_songs]\n",
        "labels = ['Top 10', 'Top 50', 'Top 100', 'Top 200', 'Top 500', 'Top 700', 'Top 817']\n",
        "key_of_interest = 'key_c#'"
      ],
      "metadata": {
        "execution": {
          "iopub.status.busy": "2023-10-21T04:07:12.628856Z",
          "iopub.execute_input": "2023-10-21T04:07:12.629424Z",
          "iopub.status.idle": "2023-10-21T04:07:12.635621Z",
          "shell.execute_reply.started": "2023-10-21T04:07:12.629391Z",
          "shell.execute_reply": "2023-10-21T04:07:12.63399Z"
        },
        "trusted": true,
        "id": "2ljzq8WcQmMY"
      },
      "execution_count": null,
      "outputs": []
    },
    {
      "cell_type": "code",
      "source": [
        "df_da.shape"
      ],
      "metadata": {
        "execution": {
          "iopub.status.busy": "2023-10-21T04:07:12.637784Z",
          "iopub.execute_input": "2023-10-21T04:07:12.638301Z",
          "iopub.status.idle": "2023-10-21T04:07:12.660812Z",
          "shell.execute_reply.started": "2023-10-21T04:07:12.63826Z",
          "shell.execute_reply": "2023-10-21T04:07:12.659764Z"
        },
        "trusted": true,
        "id": "VODKFmqBQmMZ"
      },
      "execution_count": null,
      "outputs": []
    },
    {
      "cell_type": "code",
      "source": [
        "key_counts = []\n",
        "key_percentages = []\n",
        "\n",
        "for df in dataframes:\n",
        "    key_count = df[key_of_interest].eq(1).sum()\n",
        "    key_counts.append(key_count)\n",
        "    key_percentage = (key_count / len(df)) * 100\n",
        "    key_percentages.append(key_percentage)\n",
        "\n",
        "plt.figure(figsize=(12, 6))\n",
        "\n",
        "plt.subplot(121)\n",
        "plt.bar(labels, key_counts, color='skyblue')\n",
        "plt.xlabel('Subset of Songs')\n",
        "plt.ylabel(f'Count of {key_of_interest}')\n",
        "plt.title(f'Distribution of {key_of_interest} in Different Subsets of Songs')\n",
        "\n",
        "for i, count in enumerate(key_counts):\n",
        "    plt.text(i, count, str(count), ha='center', va='bottom', fontsize=12)\n",
        "\n",
        "plt.subplot(122)\n",
        "plt.bar(labels, key_percentages, color='lightcoral')\n",
        "plt.xlabel('Subset of Songs')\n",
        "plt.ylabel(f'% of {key_of_interest}')\n",
        "plt.title(f'Percentage of {key_of_interest} in Different Subsets of Songs')\n",
        "\n",
        "for i, percentage in enumerate(key_percentages):\n",
        "    plt.text(i, percentage, f'{percentage:.2f}%', ha='center', va='bottom', fontsize=12)\n",
        "\n",
        "plt.tight_layout()\n",
        "plt.show()\n"
      ],
      "metadata": {
        "_kg_hide-input": true,
        "execution": {
          "iopub.status.busy": "2023-10-21T04:07:12.662441Z",
          "iopub.execute_input": "2023-10-21T04:07:12.662741Z",
          "iopub.status.idle": "2023-10-21T04:07:13.329755Z",
          "shell.execute_reply.started": "2023-10-21T04:07:12.662714Z",
          "shell.execute_reply": "2023-10-21T04:07:13.32829Z"
        },
        "trusted": true,
        "id": "RZ3i7WYKQmMZ"
      },
      "execution_count": null,
      "outputs": []
    },
    {
      "cell_type": "code",
      "source": [
        "key_counts = []\n",
        "key_percentages = []\n",
        "\n",
        "for df in dataframes:\n",
        "    key_count = df[key_of_interest].eq(1).sum()\n",
        "    key_counts.append(key_count)\n",
        "    key_percentage = (key_count / len(df)) * 100\n",
        "    key_percentages.append(key_percentage)\n",
        "\n",
        "fig, ax1 = plt.subplots(figsize=(12, 6))\n",
        "\n",
        "ax1.bar(labels, key_counts, color='skyblue', alpha=0.7, label=f'Count of {key_of_interest}')\n",
        "ax1.set_xlabel('Subset of Songs')\n",
        "ax1.set_ylabel(f'Count of {key_of_interest}')\n",
        "ax1.set_title(f'Distribution and Percentage of {key_of_interest} in Different Subsets of Songs')\n",
        "ax1.set_ylim(0, max(key_counts) + 2)\n",
        "#----\n",
        "ax2 = ax1.twinx()\n",
        "ax2.plot(labels, key_percentages, marker='o', color='lightcoral', linestyle='-', markersize=8, label=f'% of {key_of_interest}')\n",
        "ax2.set_ylabel(f'% of {key_of_interest}')\n",
        "ax2.set_ylim(0, max(key_percentages) + 10)\n",
        "\n",
        "for i, percentage in enumerate(key_percentages):\n",
        "    ax2.text(i, percentage, f'{percentage:.2f}%', ha='center', va='bottom', fontsize=10)\n",
        "#---\n",
        "for i, count in enumerate(key_counts):\n",
        "    ax1.text(i, count, str(count), ha='center', va='bottom', fontsize=10)\n",
        "\n",
        "ax1.legend(loc='upper left', framealpha=0.7)\n",
        "#---\n",
        "ax2.legend(loc='upper right', framealpha=0.7)\n",
        "\n",
        "plt.tight_layout()\n",
        "plt.show()"
      ],
      "metadata": {
        "_kg_hide-input": true,
        "execution": {
          "iopub.status.busy": "2023-10-21T04:07:13.331012Z",
          "iopub.execute_input": "2023-10-21T04:07:13.332242Z",
          "iopub.status.idle": "2023-10-21T04:07:13.77002Z",
          "shell.execute_reply.started": "2023-10-21T04:07:13.332209Z",
          "shell.execute_reply": "2023-10-21T04:07:13.76886Z"
        },
        "trusted": true,
        "id": "AWqBa41nQmMZ"
      },
      "execution_count": null,
      "outputs": []
    },
    {
      "cell_type": "markdown",
      "source": [
        "### While one might be tempted to get ride of #Keys, it appears that this is a big variable of interest.\n",
        "C# appearances:\n",
        "* Top 10: 30%\n",
        "* Top 50: 24%\n",
        "* Top 100: 18%\n",
        "\n",
        "Starting from the last rows:\n",
        "C# appearances:\n",
        "* Last 10: 10%\n",
        "* Last 50: 14%\n",
        "* Last 100: 14%\n",
        "\n",
        "### Massive contrast between Top 10 and Last 10, 300% factor\n"
      ],
      "metadata": {
        "id": "fish7GglQmMZ"
      }
    },
    {
      "cell_type": "code",
      "source": [
        "df_da.head()"
      ],
      "metadata": {
        "execution": {
          "iopub.status.busy": "2023-10-21T04:07:13.771119Z",
          "iopub.execute_input": "2023-10-21T04:07:13.771917Z",
          "iopub.status.idle": "2023-10-21T04:07:13.804128Z",
          "shell.execute_reply.started": "2023-10-21T04:07:13.771874Z",
          "shell.execute_reply": "2023-10-21T04:07:13.801869Z"
        },
        "trusted": true,
        "id": "zbx1s9HKQmMZ"
      },
      "execution_count": null,
      "outputs": []
    },
    {
      "cell_type": "markdown",
      "source": [
        "## Analysis --> Mode: Major & Minor"
      ],
      "metadata": {
        "id": "U5cJa6oXQmMZ"
      }
    },
    {
      "cell_type": "code",
      "source": [
        "dataframes = [top_10_songs, top_50_songs, top_100_songs, top_200_songs, top_500_songs, top_700_songs, top_817_songs]\n",
        "labels = ['Top 10', 'Top 50', 'Top 100', 'Top 200', 'Top 500', 'Top 700', 'Top 817']\n",
        "\n",
        "columns_of_interest = ['mode_major', 'mode_minor']\n",
        "\n",
        "counts_1 = {col: [] for col in columns_of_interest}\n",
        "counts_0 = {col: [] for col in columns_of_interest}\n",
        "\n",
        "for df in dataframes:\n",
        "    for col in columns_of_interest:\n",
        "        count_1 = df[col].eq(1.0).sum()\n",
        "        count_0 = len(df) - count_1\n",
        "        counts_1[col].append(count_1)\n",
        "        counts_0[col].append(count_0)\n",
        "\n",
        "for col in columns_of_interest:\n",
        "    plt.figure(figsize=(12, 6))\n",
        "\n",
        "    plt.bar(labels, counts_1[col], color='skyblue', alpha=0.7, label=f'Count of {col} (1.0)')\n",
        "    plt.xlabel('Subset of Songs')\n",
        "    plt.ylabel(f'Count of {col}')\n",
        "    plt.title(f'Distribution of {col} in Different Subsets of Songs')\n",
        "    plt.ylim(0, max(counts_1[col]) + 2)\n",
        "\n",
        "    for i, count in enumerate(counts_1[col]):\n",
        "        plt.text(i, count, str(count), ha='center', va='bottom', fontsize=10)\n",
        "\n",
        "    plt.twinx()\n",
        "    plt.plot(labels, [(count / len(df)) * 100 for count, df in zip(counts_1[col], dataframes)], marker='o', color='lightcoral', linestyle='-', markersize=8, label=f'% of {col}')\n",
        "    plt.ylabel(f'% of {col}')\n",
        "    plt.ylim(0, 110)\n",
        "\n",
        "    for i, count in enumerate(counts_1[col]):\n",
        "        plt.text(i, (count / len(dataframes[i])) * 100, f'{(count / len(dataframes[i])) * 100:.2f}%', ha='center', va='bottom', fontsize=10)\n",
        "\n",
        "    plt.legend(loc='upper left', framealpha=0.7)\n",
        "    plt.tight_layout()\n",
        "\n",
        "plt.show()\n"
      ],
      "metadata": {
        "_kg_hide-input": true,
        "execution": {
          "iopub.status.busy": "2023-10-21T04:07:13.806265Z",
          "iopub.execute_input": "2023-10-21T04:07:13.806717Z",
          "iopub.status.idle": "2023-10-21T04:07:14.627965Z",
          "shell.execute_reply.started": "2023-10-21T04:07:13.806687Z",
          "shell.execute_reply": "2023-10-21T04:07:14.626775Z"
        },
        "trusted": true,
        "id": "-_V2icRSQmMZ"
      },
      "execution_count": null,
      "outputs": []
    },
    {
      "cell_type": "code",
      "source": [
        "dataframes = [top_10_songs, top_50_songs, top_100_songs, top_200_songs, top_500_songs, top_700_songs, top_817_songs]\n",
        "labels = ['Top 10', 'Top 50', 'Top 100', 'Top 200', 'Top 500', 'Top 700', 'Top 817']\n",
        "\n",
        "columns_of_interest = ['mode_major', 'mode_minor']\n",
        "\n",
        "percentages_major = []\n",
        "percentages_minor = []\n",
        "\n",
        "for df_da in dataframes:\n",
        "    total_count = len(df_da)\n",
        "    count_major = df_da['mode_major'].sum()\n",
        "    count_minor = df_da['mode_minor'].sum()\n",
        "    percentage_major = (count_major / total_count) * 100\n",
        "    percentage_minor = (count_minor / total_count) * 100\n",
        "    percentages_major.append(percentage_major)\n",
        "    percentages_minor.append(percentage_minor)\n",
        "\n",
        "plt.figure(figsize=(12, 6))\n",
        "plt.plot(labels, percentages_major, marker='o', linestyle='-', color='skyblue', label='mode_major (True)')\n",
        "plt.plot(labels, percentages_minor, marker='o', linestyle='-', color='lightcoral', label='mode_minor (True)')\n",
        "plt.xlabel('Subset of Songs')\n",
        "plt.ylabel('%')\n",
        "plt.title('Distribution of \"mode_major\" and \"mode_minor\" in Different Subsets of Songs')\n",
        "plt.legend()\n",
        "plt.grid(True)\n",
        "\n",
        "for i, (p_major, p_minor) in enumerate(zip(percentages_major, percentages_minor)):\n",
        "    plt.text(i, p_major, f'{p_major:.2f}%', ha='center', va='bottom', fontsize=10)\n",
        "    plt.text(i, p_minor, f'{p_minor:.2f}%', ha='center', va='top', fontsize=10)\n",
        "\n",
        "plt.tight_layout()\n",
        "plt.show()\n"
      ],
      "metadata": {
        "_kg_hide-input": true,
        "execution": {
          "iopub.status.busy": "2023-10-21T04:07:14.629602Z",
          "iopub.execute_input": "2023-10-21T04:07:14.630019Z",
          "iopub.status.idle": "2023-10-21T04:07:14.974304Z",
          "shell.execute_reply.started": "2023-10-21T04:07:14.629981Z",
          "shell.execute_reply": "2023-10-21T04:07:14.973151Z"
        },
        "trusted": true,
        "id": "1yA5xUJLQmMZ"
      },
      "execution_count": null,
      "outputs": []
    },
    {
      "cell_type": "code",
      "source": [
        "last_dataframes = [last_10_songs, last_50_songs, last_100_songs, last_200_songs, last_500_songs]\n",
        "last_labels = ['Last 10', 'Last 50', 'Last 100', 'Last 200', 'Last 500']\n",
        "\n",
        "fig, axes = plt.subplots(1, 2, figsize=(16, 6))\n",
        "\n",
        "last_counts_1 = {col: [] for col in columns_of_interest}\n",
        "last_counts_0 = {col: [] for col in columns_of_interest}\n",
        "\n",
        "for df in last_dataframes:\n",
        "    for col in columns_of_interest:\n",
        "        last_count_1 = df[col].eq(1.0).sum()\n",
        "        last_count_0 = len(df) - last_count_1\n",
        "        last_counts_1[col].append(last_count_1)\n",
        "        last_counts_0[col].append(last_count_0)\n",
        "\n",
        "for i, col in enumerate(columns_of_interest):\n",
        "    ax = axes[i]\n",
        "\n",
        "    ax.bar(last_labels, last_counts_1[col], color='skyblue', alpha=0.7, label=f'Count of {col} (1.0)')\n",
        "    ax.set_xlabel('Subset of Last Songs')\n",
        "    ax.set_ylabel(f'Count of {col} (1.0)')\n",
        "    ax.set_title(f'Distribution of {col} (1.0) in Different Subsets of Last Songs')\n",
        "    ax.set_ylim(0, max(last_counts_1[col]) + 2)\n",
        "\n",
        "    for j, count in enumerate(last_counts_1[col]):\n",
        "        ax.text(j, count, str(count), ha='center', va='bottom', fontsize=10)\n",
        "\n",
        "    ax2 = ax.twinx()\n",
        "    ax2.plot(last_labels, [(count / len(df)) * 100 for count, df in zip(last_counts_1[col], last_dataframes)], marker='o', color='lightcoral', linestyle='-', markersize=8, label=f'% of {col} (1.0)')\n",
        "    ax2.set_ylabel(f'% of {col} (1.0)')\n",
        "    ax2.set_ylim(0, 110)\n",
        "\n",
        "    for j, count in enumerate(last_counts_1[col]):\n",
        "        ax2.text(j, (count / len(last_dataframes[j])) * 100, f'{(count / len(last_dataframes[j])) * 100:.2f}%', ha='center', va='bottom', fontsize=10)\n",
        "\n",
        "    ax.legend(loc='upper left', framealpha=0.7)\n",
        "    ax2.legend(loc='upper right', framealpha=0.7)\n",
        "    plt.tight_layout()\n",
        "\n",
        "plt.show()\n"
      ],
      "metadata": {
        "_kg_hide-input": true,
        "execution": {
          "iopub.status.busy": "2023-10-21T04:07:14.975739Z",
          "iopub.execute_input": "2023-10-21T04:07:14.976309Z",
          "iopub.status.idle": "2023-10-21T04:07:15.746Z",
          "shell.execute_reply.started": "2023-10-21T04:07:14.976263Z",
          "shell.execute_reply": "2023-10-21T04:07:15.745176Z"
        },
        "trusted": true,
        "id": "qPf6Q1DAQmMZ"
      },
      "execution_count": null,
      "outputs": []
    },
    {
      "cell_type": "code",
      "source": [
        "df_da.columns"
      ],
      "metadata": {
        "execution": {
          "iopub.status.busy": "2023-10-21T04:07:15.747248Z",
          "iopub.execute_input": "2023-10-21T04:07:15.74791Z",
          "iopub.status.idle": "2023-10-21T04:07:15.755948Z",
          "shell.execute_reply.started": "2023-10-21T04:07:15.747876Z",
          "shell.execute_reply": "2023-10-21T04:07:15.75463Z"
        },
        "trusted": true,
        "id": "8RdcBfcHQmMZ"
      },
      "execution_count": null,
      "outputs": []
    },
    {
      "cell_type": "markdown",
      "source": [
        "### Analysis : BPM"
      ],
      "metadata": {
        "id": "ElFz-MPVQmMZ"
      }
    },
    {
      "cell_type": "code",
      "source": [
        "dataframes = [top_10_songs, top_50_songs, top_100_songs, top_200_songs, top_500_songs, top_700_songs, top_817_songs]\n",
        "labels = ['Top 10', 'Top 50', 'Top 100', 'Top 200', 'Top 500', 'Top 700', 'Top 817']\n",
        "last_dataframes = [last_10_songs, last_50_songs, last_100_songs, last_200_songs, last_500_songs]\n",
        "last_labels = ['Last 10', 'Last 50', 'Last 100', 'Last 200', 'Last 500']"
      ],
      "metadata": {
        "execution": {
          "iopub.status.busy": "2023-10-21T04:07:15.757174Z",
          "iopub.execute_input": "2023-10-21T04:07:15.758108Z",
          "iopub.status.idle": "2023-10-21T04:07:15.773711Z",
          "shell.execute_reply.started": "2023-10-21T04:07:15.758075Z",
          "shell.execute_reply": "2023-10-21T04:07:15.772003Z"
        },
        "trusted": true,
        "id": "LNhh0gq9QmMZ"
      },
      "execution_count": null,
      "outputs": []
    },
    {
      "cell_type": "code",
      "source": [
        "bpm_min = []\n",
        "bpm_max = []\n",
        "bpm_avg = []\n",
        "bpm_std = []\n",
        "\n",
        "for df in dataframes:\n",
        "    bpm_min.append(df['bpm'].min())\n",
        "    bpm_max.append(df['bpm'].max())\n",
        "    bpm_avg.append(df['bpm'].mean())\n",
        "    bpm_std.append(df['bpm'].std())\n",
        "\n",
        "plt.figure(figsize=(12, 6))\n",
        "\n",
        "# Line for average BPM\n",
        "plt.plot(labels, bpm_avg, marker='o', linestyle='-', color='skyblue', label='Average BPM')\n",
        "\n",
        "# Line for max BPM\n",
        "plt.plot(labels, bpm_max, marker='o', linestyle='-', color='lightcoral', label='Max BPM')\n",
        "\n",
        "# Line for min BPM\n",
        "plt.plot(labels, bpm_min, marker='o', linestyle='-', color='lightgreen', label='Min BPM')\n",
        "\n",
        "# Line for std BPM\n",
        "plt.plot(labels, bpm_std, marker='o', linestyle='-', color='gold', label='BPM Std Deviation')\n",
        "\n",
        "plt.xlabel('Subset of Songs')\n",
        "plt.ylabel('BPM')\n",
        "plt.title('Distribution of BPM per Subsets')\n",
        "plt.legend()\n",
        "plt.grid(True)\n",
        "\n",
        "for i, (avg, max_val, min_val, std_val) in enumerate(zip(bpm_avg, bpm_max, bpm_min, bpm_std)):\n",
        "    plt.text(i, avg, f'Avg: {avg:.2f}', ha='center', va='bottom', fontsize=10)\n",
        "    plt.text(i, max_val, f'Max: {max_val:.2f}', ha='center', va='top', fontsize=10)\n",
        "    plt.text(i, min_val, f'Min: {min_val:.2f}', ha='center', va='bottom', fontsize=10)\n",
        "    plt.text(i, std_val, f'Std: {std_val:.2f}', ha='center', va='bottom', fontsize=10)\n",
        "\n",
        "plt.tight_layout()\n",
        "plt.show()\n"
      ],
      "metadata": {
        "_kg_hide-input": true,
        "execution": {
          "iopub.status.busy": "2023-10-21T04:07:15.775327Z",
          "iopub.execute_input": "2023-10-21T04:07:15.775641Z",
          "iopub.status.idle": "2023-10-21T04:07:16.176693Z",
          "shell.execute_reply.started": "2023-10-21T04:07:15.775614Z",
          "shell.execute_reply": "2023-10-21T04:07:16.175364Z"
        },
        "trusted": true,
        "id": "SrJALQQDQmMZ"
      },
      "execution_count": null,
      "outputs": []
    },
    {
      "cell_type": "code",
      "source": [
        "plt.figure(figsize=(12, 6))\n",
        "bpm_avg = []\n",
        "\n",
        "for i, df in enumerate(dataframes):\n",
        "    plt.scatter([i] * len(df), df['bpm'], label=labels[i], alpha=0.7)\n",
        "    avg = df['bpm'].mean()\n",
        "    bpm_avg.append(avg)\n",
        "\n",
        "plt.plot(range(len(dataframes)), bpm_avg, marker='o', linestyle='-', color='red', label='Average BPM')\n",
        "plt.xlabel('Subset of Songs')\n",
        "plt.ylabel('BPM')\n",
        "plt.title('TOP - Distribution of BPM for Each Subsets')\n",
        "plt.xticks(range(len(dataframes)), labels, rotation=45)\n",
        "plt.legend(loc='upper left', bbox_to_anchor=(1, 1))\n",
        "plt.grid(True)\n",
        "\n",
        "plt.tight_layout()\n",
        "plt.show()\n"
      ],
      "metadata": {
        "_kg_hide-input": true,
        "execution": {
          "iopub.status.busy": "2023-10-21T04:07:16.178363Z",
          "iopub.execute_input": "2023-10-21T04:07:16.178763Z",
          "iopub.status.idle": "2023-10-21T04:07:16.624912Z",
          "shell.execute_reply.started": "2023-10-21T04:07:16.178726Z",
          "shell.execute_reply": "2023-10-21T04:07:16.623357Z"
        },
        "trusted": true,
        "id": "c1eFw5VNQmMZ"
      },
      "execution_count": null,
      "outputs": []
    },
    {
      "cell_type": "markdown",
      "source": [
        "### Analysis Danceability"
      ],
      "metadata": {
        "id": "qRa3B5DtQmMZ"
      }
    },
    {
      "cell_type": "code",
      "source": [
        "df_da.shape"
      ],
      "metadata": {
        "execution": {
          "iopub.status.busy": "2023-10-21T04:07:16.626789Z",
          "iopub.execute_input": "2023-10-21T04:07:16.627633Z",
          "iopub.status.idle": "2023-10-21T04:07:16.635494Z",
          "shell.execute_reply.started": "2023-10-21T04:07:16.6276Z",
          "shell.execute_reply": "2023-10-21T04:07:16.633726Z"
        },
        "trusted": true,
        "id": "gQgTOHvoQmMZ"
      },
      "execution_count": null,
      "outputs": []
    },
    {
      "cell_type": "code",
      "source": [
        "danceability_min = []\n",
        "danceability_max = []\n",
        "danceability_avg = []\n",
        "danceability_std = []\n",
        "\n",
        "for df in dataframes:\n",
        "    danceability_min.append(df['danceability'].min())\n",
        "    danceability_max.append(df['danceability'].max())\n",
        "    danceability_avg.append(df['danceability'].mean())\n",
        "    danceability_std.append(df['danceability'].std())\n",
        "\n",
        "plt.figure(figsize=(12, 6))\n",
        "\n",
        "# Line for average danceability\n",
        "plt.plot(labels, danceability_avg, marker='o', linestyle='-', color='skyblue', label='Average Danceability')\n",
        "\n",
        "# Line for max danceability\n",
        "plt.plot(labels, danceability_max, marker='o', linestyle='-', color='lightcoral', label='Max Danceability')\n",
        "\n",
        "# Line for min danceability\n",
        "plt.plot(labels, danceability_min, marker='o', linestyle='-', color='lightgreen', label='Min Danceability')\n",
        "\n",
        "# Line for std danceability\n",
        "plt.plot(labels, danceability_std, marker='o', linestyle='-', color='gold', label='Danceability Std Deviation')\n",
        "\n",
        "plt.xlabel('Subset of Songs')\n",
        "plt.ylabel('Danceability')\n",
        "plt.title('Distribution of Danceability per Subsets')\n",
        "plt.legend()\n",
        "plt.grid(True)\n",
        "\n",
        "for i, (avg, max_val, min_val, std_val) in enumerate(zip(danceability_avg, danceability_max, danceability_min, danceability_std)):\n",
        "    plt.text(i, avg, f'Avg: {avg:.2f}', ha='center', va='bottom', fontsize=10)\n",
        "    plt.text(i, max_val, f'Max: {max_val:.2f}', ha='center', va='top', fontsize=10)\n",
        "    plt.text(i, min_val, f'Min: {min_val:.2f}', ha='center', va='bottom', fontsize=10)\n",
        "    plt.text(i, std_val, f'Std: {std_val:.2f}', ha='center', va='bottom', fontsize=10)\n",
        "\n",
        "plt.tight_layout()\n",
        "plt.show()\n"
      ],
      "metadata": {
        "_kg_hide-input": true,
        "execution": {
          "iopub.status.busy": "2023-10-21T04:07:16.636755Z",
          "iopub.execute_input": "2023-10-21T04:07:16.637214Z",
          "iopub.status.idle": "2023-10-21T04:07:17.011356Z",
          "shell.execute_reply.started": "2023-10-21T04:07:16.637165Z",
          "shell.execute_reply": "2023-10-21T04:07:17.009654Z"
        },
        "trusted": true,
        "id": "1GuA3kOTQmMZ"
      },
      "execution_count": null,
      "outputs": []
    },
    {
      "cell_type": "code",
      "source": [
        "plt.figure(figsize=(10, 6))\n",
        "sns.histplot(df_da['danceability'], bins=30, kde=True, color='skyblue')\n",
        "plt.xlabel('Danceability')\n",
        "plt.ylabel('Frequency')\n",
        "plt.title('Distribution of Danceability')\n",
        "plt.grid(True)\n",
        "plt.show()"
      ],
      "metadata": {
        "_kg_hide-input": true,
        "execution": {
          "iopub.status.busy": "2023-10-21T04:07:17.012863Z",
          "iopub.execute_input": "2023-10-21T04:07:17.013293Z",
          "iopub.status.idle": "2023-10-21T04:07:17.363548Z",
          "shell.execute_reply.started": "2023-10-21T04:07:17.013259Z",
          "shell.execute_reply": "2023-10-21T04:07:17.362498Z"
        },
        "trusted": true,
        "id": "mdA0IsjNQmMZ"
      },
      "execution_count": null,
      "outputs": []
    },
    {
      "cell_type": "markdown",
      "source": [
        "### Analysis Valence"
      ],
      "metadata": {
        "id": "oF2KZUyGQmMa"
      }
    },
    {
      "cell_type": "code",
      "source": [
        "valence_min = []\n",
        "valence_max = []\n",
        "valence_avg = []\n",
        "valence_std = []\n",
        "\n",
        "for df in dataframes:\n",
        "    valence_min.append(df['valence'].min())\n",
        "    valence_max.append(df['valence'].max())\n",
        "    valence_avg.append(df['valence'].mean())\n",
        "    valence_std.append(df['valence'].std())\n",
        "\n",
        "plt.figure(figsize=(12, 6))\n",
        "\n",
        "# Line for average Valence\n",
        "plt.plot(labels, valence_avg, marker='o', linestyle='-', color='skyblue', label='Average Valence')\n",
        "\n",
        "# Line for max Valence\n",
        "plt.plot(labels, valence_max, marker='o', linestyle='-', color='lightcoral', label='Max Valence')\n",
        "\n",
        "# Line for min Valence\n",
        "plt.plot(labels, valence_min, marker='o', linestyle='-', color='lightgreen', label='Min Valence')\n",
        "\n",
        "# Line for std Valence\n",
        "plt.plot(labels, valence_std, marker='o', linestyle='-', color='gold', label='Valence Std Deviation')\n",
        "\n",
        "plt.xlabel('Subset of Songs')\n",
        "plt.ylabel('Valence')\n",
        "plt.title('Distribution of Valence per Subsets')\n",
        "plt.legend()\n",
        "plt.grid(True)\n",
        "\n",
        "for i, (avg, max_val, min_val, std_val) in enumerate(zip(valence_avg, valence_max, valence_min, valence_std)):\n",
        "    plt.text(i, avg, f'Avg: {avg:.2f}', ha='center', va='bottom', fontsize=10)\n",
        "    plt.text(i, max_val, f'Max: {max_val:.2f}', ha='center', va='top', fontsize=10)\n",
        "    plt.text(i, min_val, f'Min: {min_val:.2f}', ha='center', va='bottom', fontsize=10)\n",
        "    plt.text(i, std_val, f'Std: {std_val:.2f}', ha='center', va='bottom', fontsize=10)\n",
        "\n",
        "plt.tight_layout()\n",
        "plt.show()\n"
      ],
      "metadata": {
        "_kg_hide-input": true,
        "execution": {
          "iopub.status.busy": "2023-10-21T04:07:17.364615Z",
          "iopub.execute_input": "2023-10-21T04:07:17.364864Z",
          "iopub.status.idle": "2023-10-21T04:07:17.950467Z",
          "shell.execute_reply.started": "2023-10-21T04:07:17.364841Z",
          "shell.execute_reply": "2023-10-21T04:07:17.949341Z"
        },
        "trusted": true,
        "id": "65PDwjNRQmMa"
      },
      "execution_count": null,
      "outputs": []
    },
    {
      "cell_type": "code",
      "source": [
        "plt.figure(figsize=(10, 6))\n",
        "sns.histplot(df_da['valence'], bins=30, kde=True, color='lightcoral')\n",
        "plt.xlabel('Valence')\n",
        "plt.ylabel('Frequency')\n",
        "plt.title('Distribution of Valence')\n",
        "plt.grid(True)\n",
        "plt.show()"
      ],
      "metadata": {
        "_kg_hide-input": true,
        "execution": {
          "iopub.status.busy": "2023-10-21T04:07:17.959245Z",
          "iopub.execute_input": "2023-10-21T04:07:17.959898Z",
          "iopub.status.idle": "2023-10-21T04:07:18.294489Z",
          "shell.execute_reply.started": "2023-10-21T04:07:17.959844Z",
          "shell.execute_reply": "2023-10-21T04:07:18.293336Z"
        },
        "trusted": true,
        "id": "qzwKIR6tQmMa"
      },
      "execution_count": null,
      "outputs": []
    },
    {
      "cell_type": "code",
      "source": [],
      "metadata": {
        "id": "EX1zCTNMQmMa"
      },
      "execution_count": null,
      "outputs": []
    },
    {
      "cell_type": "markdown",
      "source": [
        "## Analysis Energy"
      ],
      "metadata": {
        "id": "nbql2evWQmMa"
      }
    },
    {
      "cell_type": "code",
      "source": [
        "energy_min = []\n",
        "energy_max = []\n",
        "energy_avg = []\n",
        "energy_std = []\n",
        "\n",
        "for df_da in dataframes:\n",
        "    energy_min.append(df_da['energy'].min())\n",
        "    energy_max.append(df_da['energy'].max())\n",
        "    energy_avg.append(df_da['energy'].mean())\n",
        "    energy_std.append(df_da['energy'].std())\n",
        "\n",
        "plt.figure(figsize=(12, 6))\n",
        "\n",
        "# Line for average Energy\n",
        "plt.plot(labels, energy_avg, marker='o', linestyle='-', color='skyblue', label='Average Energy')\n",
        "\n",
        "# Line for max Energy\n",
        "plt.plot(labels, energy_max, marker='o', linestyle='-', color='lightcoral', label='Max Energy')\n",
        "\n",
        "# Line for min Energy\n",
        "plt.plot(labels, energy_min, marker='o', linestyle='-', color='lightgreen', label='Min Energy')\n",
        "\n",
        "# Line for std Energy\n",
        "plt.plot(labels, energy_std, marker='o', linestyle='-', color='gold', label='Energy Std Deviation')\n",
        "\n",
        "plt.xlabel('Subset of Songs')\n",
        "plt.ylabel('Energy')\n",
        "plt.title('Distribution of Energy per Subsets')\n",
        "plt.legend()\n",
        "plt.grid(True)\n",
        "\n",
        "for i, (avg, max_val, min_val, std_val) in enumerate(zip(energy_avg, energy_max, energy_min, energy_std)):\n",
        "    plt.text(i, avg, f'Avg: {avg:.2f}', ha='center', va='bottom', fontsize=10)\n",
        "    plt.text(i, max_val, f'Max: {max_val:.2f}', ha='center', va='top', fontsize=10)\n",
        "    plt.text(i, min_val, f'Min: {min_val:.2f}', ha='center', va='bottom', fontsize=10)\n",
        "    plt.text(i, std_val, f'Std: {std_val:.2f}', ha='center', va='bottom', fontsize=10)\n",
        "\n",
        "plt.tight_layout()\n",
        "plt.show()\n"
      ],
      "metadata": {
        "_kg_hide-input": true,
        "execution": {
          "iopub.status.busy": "2023-10-21T04:07:18.295816Z",
          "iopub.execute_input": "2023-10-21T04:07:18.296488Z",
          "iopub.status.idle": "2023-10-21T04:07:18.65658Z",
          "shell.execute_reply.started": "2023-10-21T04:07:18.296378Z",
          "shell.execute_reply": "2023-10-21T04:07:18.655227Z"
        },
        "trusted": true,
        "id": "RBWsgK2tQmMa"
      },
      "execution_count": null,
      "outputs": []
    },
    {
      "cell_type": "code",
      "source": [
        "plt.figure(figsize=(10, 6))\n",
        "sns.histplot(df_da['energy'], bins=30, kde=True, color='lightcoral')\n",
        "plt.xlabel('Energy')\n",
        "plt.ylabel('Frequency')\n",
        "plt.title('Distribution of Energy')\n",
        "plt.grid(True)\n",
        "plt.show()"
      ],
      "metadata": {
        "execution": {
          "iopub.status.busy": "2023-10-21T04:07:18.658654Z",
          "iopub.execute_input": "2023-10-21T04:07:18.659122Z",
          "iopub.status.idle": "2023-10-21T04:07:18.980101Z",
          "shell.execute_reply.started": "2023-10-21T04:07:18.659087Z",
          "shell.execute_reply": "2023-10-21T04:07:18.978758Z"
        },
        "trusted": true,
        "id": "L961PcN-QmMa"
      },
      "execution_count": null,
      "outputs": []
    },
    {
      "cell_type": "code",
      "source": [],
      "metadata": {
        "id": "ifehwWqWQmMa"
      },
      "execution_count": null,
      "outputs": []
    },
    {
      "cell_type": "markdown",
      "source": [
        "## Analysis Acoustinecness"
      ],
      "metadata": {
        "id": "sBqIcSblQmMa"
      }
    },
    {
      "cell_type": "code",
      "source": [
        "acousticness_min = []\n",
        "acousticness_max = []\n",
        "acousticness_avg = []\n",
        "acousticness_std = []\n",
        "\n",
        "for df in dataframes:\n",
        "    acousticness_min.append(df['acousticness'].min())\n",
        "    acousticness_max.append(df['acousticness'].max())\n",
        "    acousticness_avg.append(df['acousticness'].mean())\n",
        "    acousticness_std.append(df['acousticness'].std())\n",
        "\n",
        "plt.figure(figsize=(12, 6))\n",
        "\n",
        "# Line for average Acousticness\n",
        "plt.plot(labels, acousticness_avg, marker='o', linestyle='-', color='skyblue', label='Average Acousticness')\n",
        "\n",
        "# Line for max Acousticness\n",
        "plt.plot(labels, acousticness_max, marker='o', linestyle='-', color='lightcoral', label='Max Acousticness')\n",
        "\n",
        "# Line for min Acousticness\n",
        "plt.plot(labels, acousticness_min, marker='o', linestyle='-', color='lightgreen', label='Min Acousticness')\n",
        "\n",
        "# Line for std Acousticness\n",
        "plt.plot(labels, acousticness_std, marker='o', linestyle='-', color='gold', label='Acousticness Std Deviation')\n",
        "\n",
        "plt.xlabel('Subset of Songs')\n",
        "plt.ylabel('Acousticness')\n",
        "plt.title('Distribution of Acousticness per Subsets')\n",
        "plt.legend()\n",
        "plt.grid(True)\n",
        "\n",
        "for i, (avg, max_val, min_val, std_val) in enumerate(zip(acousticness_avg, acousticness_max, acousticness_min, acousticness_std)):\n",
        "    plt.text(i, avg, f'Avg: {avg:.2f}', ha='center', va='bottom', fontsize=10)\n",
        "    plt.text(i, max_val, f'Max: {max_val:.2f}', ha='center', va='top', fontsize=10)\n",
        "    plt.text(i, min_val, f'Min: {min_val:.2f}', ha='center', va='bottom', fontsize=10)\n",
        "    plt.text(i, std_val, f'Std: {std_val:.2f}', ha='center', va='bottom', fontsize=10)\n",
        "\n",
        "plt.tight_layout()\n",
        "plt.show()\n"
      ],
      "metadata": {
        "_kg_hide-input": true,
        "execution": {
          "iopub.status.busy": "2023-10-21T04:07:18.981238Z",
          "iopub.execute_input": "2023-10-21T04:07:18.981544Z",
          "iopub.status.idle": "2023-10-21T04:07:19.366118Z",
          "shell.execute_reply.started": "2023-10-21T04:07:18.981519Z",
          "shell.execute_reply": "2023-10-21T04:07:19.365105Z"
        },
        "trusted": true,
        "id": "x7CLvQD7QmMa"
      },
      "execution_count": null,
      "outputs": []
    },
    {
      "cell_type": "code",
      "source": [
        "plt.figure(figsize=(10, 6))\n",
        "sns.histplot(df_da['acousticness'], bins=30, kde=True, color='lightcoral')\n",
        "plt.xlabel('Acousticness')\n",
        "plt.ylabel('Frequency')\n",
        "plt.title('Distribution of Acousticness')\n",
        "plt.grid(True)\n",
        "plt.show()"
      ],
      "metadata": {
        "_kg_hide-input": true,
        "execution": {
          "iopub.status.busy": "2023-10-21T04:07:19.367766Z",
          "iopub.execute_input": "2023-10-21T04:07:19.368461Z",
          "iopub.status.idle": "2023-10-21T04:07:19.724793Z",
          "shell.execute_reply.started": "2023-10-21T04:07:19.368424Z",
          "shell.execute_reply": "2023-10-21T04:07:19.723075Z"
        },
        "trusted": true,
        "id": "voCuajd0QmMa"
      },
      "execution_count": null,
      "outputs": []
    },
    {
      "cell_type": "markdown",
      "source": [
        "### Done\n",
        "### Next step is to download dataframe\n",
        "### And move on to modeling"
      ],
      "metadata": {
        "id": "qEvP-tnzQmMa"
      }
    },
    {
      "cell_type": "code",
      "source": [
        "df_da.head()"
      ],
      "metadata": {
        "execution": {
          "iopub.status.busy": "2023-10-21T04:07:19.726946Z",
          "iopub.execute_input": "2023-10-21T04:07:19.727347Z",
          "iopub.status.idle": "2023-10-21T04:07:19.757905Z",
          "shell.execute_reply.started": "2023-10-21T04:07:19.727314Z",
          "shell.execute_reply": "2023-10-21T04:07:19.756711Z"
        },
        "trusted": true,
        "id": "Il_dhxLsQmMa"
      },
      "execution_count": null,
      "outputs": []
    },
    {
      "cell_type": "code",
      "source": [
        "df_da.shape"
      ],
      "metadata": {
        "execution": {
          "iopub.status.busy": "2023-10-21T04:07:19.759023Z",
          "iopub.execute_input": "2023-10-21T04:07:19.75972Z",
          "iopub.status.idle": "2023-10-21T04:07:19.766232Z",
          "shell.execute_reply.started": "2023-10-21T04:07:19.759689Z",
          "shell.execute_reply": "2023-10-21T04:07:19.765075Z"
        },
        "trusted": true,
        "id": "iy428NU0QmMa"
      },
      "execution_count": null,
      "outputs": []
    },
    {
      "cell_type": "code",
      "source": [
        "df_da.columns"
      ],
      "metadata": {
        "execution": {
          "iopub.status.busy": "2023-10-21T04:07:19.767667Z",
          "iopub.execute_input": "2023-10-21T04:07:19.768523Z",
          "iopub.status.idle": "2023-10-21T04:07:19.782349Z",
          "shell.execute_reply.started": "2023-10-21T04:07:19.768477Z",
          "shell.execute_reply": "2023-10-21T04:07:19.781485Z"
        },
        "trusted": true,
        "id": "n9CSTPahQmMa"
      },
      "execution_count": null,
      "outputs": []
    },
    {
      "cell_type": "code",
      "source": [
        "df_da.shape"
      ],
      "metadata": {
        "execution": {
          "iopub.status.busy": "2023-10-21T04:07:19.783642Z",
          "iopub.execute_input": "2023-10-21T04:07:19.784141Z",
          "iopub.status.idle": "2023-10-21T04:07:19.801191Z",
          "shell.execute_reply.started": "2023-10-21T04:07:19.784112Z",
          "shell.execute_reply": "2023-10-21T04:07:19.799831Z"
        },
        "trusted": true,
        "id": "d1Z181QIQmMb"
      },
      "execution_count": null,
      "outputs": []
    },
    {
      "cell_type": "code",
      "source": [
        "df_da.drop(columns=['key'], inplace=True)\n",
        "df_da.head()"
      ],
      "metadata": {
        "execution": {
          "iopub.status.busy": "2023-10-21T04:07:19.802731Z",
          "iopub.execute_input": "2023-10-21T04:07:19.80396Z",
          "iopub.status.idle": "2023-10-21T04:07:19.841757Z",
          "shell.execute_reply.started": "2023-10-21T04:07:19.8039Z",
          "shell.execute_reply": "2023-10-21T04:07:19.840398Z"
        },
        "trusted": true,
        "id": "-pDKOGo1QmMb"
      },
      "execution_count": null,
      "outputs": []
    },
    {
      "cell_type": "code",
      "source": [
        "df_da.info()"
      ],
      "metadata": {
        "execution": {
          "iopub.status.busy": "2023-10-21T04:07:19.843701Z",
          "iopub.execute_input": "2023-10-21T04:07:19.844128Z",
          "iopub.status.idle": "2023-10-21T04:07:19.859224Z",
          "shell.execute_reply.started": "2023-10-21T04:07:19.844097Z",
          "shell.execute_reply": "2023-10-21T04:07:19.857413Z"
        },
        "trusted": true,
        "id": "vGby-3ypQmMb"
      },
      "execution_count": null,
      "outputs": []
    },
    {
      "cell_type": "code",
      "source": [
        "%whos"
      ],
      "metadata": {
        "execution": {
          "iopub.status.busy": "2023-10-21T04:07:19.861469Z",
          "iopub.execute_input": "2023-10-21T04:07:19.861828Z",
          "iopub.status.idle": "2023-10-21T04:07:20.212282Z",
          "shell.execute_reply.started": "2023-10-21T04:07:19.861796Z",
          "shell.execute_reply": "2023-10-21T04:07:20.211356Z"
        },
        "trusted": true,
        "id": "JcPvrFUjQmMb"
      },
      "execution_count": null,
      "outputs": []
    },
    {
      "cell_type": "code",
      "source": [
        "df_da.to_csv('df_data_features.csv', index=False)"
      ],
      "metadata": {
        "execution": {
          "iopub.status.busy": "2023-10-21T04:07:20.213515Z",
          "iopub.execute_input": "2023-10-21T04:07:20.214681Z",
          "iopub.status.idle": "2023-10-21T04:07:20.233097Z",
          "shell.execute_reply.started": "2023-10-21T04:07:20.214648Z",
          "shell.execute_reply": "2023-10-21T04:07:20.231525Z"
        },
        "trusted": true,
        "id": "Z6okUT9WQmMb"
      },
      "execution_count": null,
      "outputs": []
    },
    {
      "cell_type": "markdown",
      "source": [
        "Notebook ini bertujuan untuk menganalisis faktor-faktor yang memengaruhi sebuah lagu agar bisa menjadi hits di Spotify. Dataset Spotify 2023 digunakan dan berisi berbagai informasi lagu seperti streams, energy, valence, danceability, key, mode, dan lainnya.\n",
        "\n",
        "📌 Import Library\n",
        "Notebook mengimpor library penting seperti:\n",
        "\n",
        "pandas untuk memproses data,\n",
        "\n",
        "numpy untuk operasi numerik,\n",
        "\n",
        "seaborn dan matplotlib untuk visualisasi grafik,\n",
        "\n",
        "MinMaxScaler dari sklearn untuk melakukan normalisasi fitur.\n",
        "\n",
        "📌 Load dan Cleaning Data\n",
        "Data di-load dari file CSV. Dataset dibersihkan dengan menghapus baris yang mengandung missing value (NA), khususnya di kolom penting seperti key dan mode. Kolom streams diubah ke tipe numerik untuk memastikan konsistensi saat analisis.\n",
        "\n",
        "📌 Feature Engineering\n",
        "Ditambahkan kolom track_id sebagai ID unik untuk setiap lagu.\n",
        "\n",
        "Streams dinormalisasi menggunakan MinMax scaling sehingga nilai streams berada dalam rentang 0 hingga 1, memudahkan perbandingan antar track.\n",
        "\n",
        "Fitur kategorikal seperti key dan mode diubah ke bentuk one-hot encoding agar dapat diproses model atau visualisasi dengan benar.\n",
        "\n",
        "📌 EDA dan Visualisasi\n",
        "Beberapa visualisasi dilakukan untuk memahami pola data:\n",
        "\n",
        "Correlation heatmap: menampilkan hubungan linier antar fitur. Contohnya, energy sering berkorelasi positif dengan jumlah streams.\n",
        "\n",
        "Pie chart distribusi key: menggambarkan persentase lagu berdasarkan nada dasar (key).\n",
        "\n",
        "Scatter plot: menggambarkan hubungan streams dengan fitur seperti energy, valence, danceability.\n",
        "\n",
        "Barplot rata-rata streams per key: menunjukkan bagaimana rata-rata streams bervariasi antar nada dasar.\n",
        "\n",
        "Histogram: menampilkan distribusi danceability, energy, valence, acousticness, dan fitur lainnya di dataset.\n",
        "\n",
        "Boxplot: membandingkan distribusi streams berdasarkan kategori tertentu.\n",
        "\n",
        "Visualisasi ini memberikan insight penting: fitur-fitur seperti energy, valence, dan danceability memiliki pola tertentu terhadap jumlah streams.\n",
        "\n",
        "📌 Persamaan Matematika\n",
        "Notebook ini tidak secara eksplisit menggunakan metrik evaluasi seperti MAE atau MSE, tetapi ada konsep matematika yang digunakan:\n",
        "\n",
        "MinMax Scaling: setiap nilai fitur\n",
        "𝑥\n",
        "x diubah ke skala 0-1 menggunakan rumus:\n",
        "\n",
        "𝑥\n",
        "scaled\n",
        "=\n",
        "𝑥\n",
        "−\n",
        "𝑥\n",
        "min\n",
        "⁡\n",
        "𝑥\n",
        "max\n",
        "⁡\n",
        "−\n",
        "𝑥\n",
        "min\n",
        "⁡\n",
        "x\n",
        "scaled\n",
        "​\n",
        " =\n",
        "x\n",
        "max\n",
        "​\n",
        " −x\n",
        "min\n",
        "​\n",
        "\n",
        "x−x\n",
        "min\n",
        "​\n",
        "\n",
        "​\n",
        "\n",
        "Pearson Correlation Coefficient: digunakan pada heatmap korelasi untuk mengukur hubungan linier antar dua variabel:\n",
        "\n",
        "𝑟\n",
        "=\n",
        "∑\n",
        "(\n",
        "𝑥\n",
        "𝑖\n",
        "−\n",
        "𝑥\n",
        "ˉ\n",
        ")\n",
        "(\n",
        "𝑦\n",
        "𝑖\n",
        "−\n",
        "𝑦\n",
        "ˉ\n",
        ")\n",
        "∑\n",
        "(\n",
        "𝑥\n",
        "𝑖\n",
        "−\n",
        "𝑥\n",
        "ˉ\n",
        ")\n",
        "2\n",
        "∑\n",
        "(\n",
        "𝑦\n",
        "𝑖\n",
        "−\n",
        "𝑦\n",
        "ˉ\n",
        ")\n",
        "2\n",
        "r=\n",
        "∑(x\n",
        "i\n",
        "​\n",
        " −\n",
        "x\n",
        "ˉ\n",
        " )\n",
        "2\n",
        "\n",
        "​\n",
        "  \n",
        "∑(y\n",
        "i\n",
        "​\n",
        " −\n",
        "y\n",
        "ˉ\n",
        "​\n",
        " )\n",
        "2\n",
        "\n",
        "​\n",
        "\n",
        "∑(x\n",
        "i\n",
        "​\n",
        " −\n",
        "x\n",
        "ˉ\n",
        " )(y\n",
        "i\n",
        "​\n",
        " −\n",
        "y\n",
        "ˉ\n",
        "​\n",
        " )\n",
        "​\n",
        "\n",
        "📌 Kesimpulan EDA\n",
        "EDA menunjukkan bahwa:\n",
        "\n",
        "Energy, danceability, dan valence berperan dalam popularitas track (jumlah streams).\n",
        "\n",
        "Lagu dengan key dan mode tertentu (misalnya mayor atau key C) cenderung lebih dominan di charts.\n",
        "\n",
        "Fitur-fitur musik berperan dalam menentukan apakah sebuah track hits di Spotify.\n",
        "\n"
      ],
      "metadata": {
        "id": "Pc0aKguiWvvG"
      }
    }
  ]
}