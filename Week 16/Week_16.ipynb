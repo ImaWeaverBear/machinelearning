{
  "nbformat": 4,
  "nbformat_minor": 0,
  "metadata": {
    "colab": {
      "provenance": []
    },
    "kernelspec": {
      "name": "python3",
      "display_name": "Python 3"
    },
    "language_info": {
      "name": "python"
    }
  },
  "cells": [
    {
      "cell_type": "code",
      "execution_count": 4,
      "metadata": {
        "colab": {
          "base_uri": "https://localhost:8080/"
        },
        "id": "4EXnQmbQSVBW",
        "outputId": "7c511413-c774-4f22-abbf-9996dc8d2611"
      },
      "outputs": [
        {
          "output_type": "stream",
          "name": "stdout",
          "text": [
            "Gradient dy/dx at x=3: 6.0\n",
            "Epoch 0: Loss = 5.454823017120361\n",
            "Epoch 100: Loss = 0.006197552662342787\n",
            "Epoch 200: Loss = 0.0034023839980363846\n",
            "Epoch 300: Loss = 0.0018678555497899652\n",
            "Epoch 400: Loss = 0.0010254320222884417\n",
            "Epoch 500: Loss = 0.0005629497463814914\n",
            "Epoch 600: Loss = 0.00030905212042853236\n",
            "Epoch 700: Loss = 0.0001696653780527413\n",
            "Epoch 800: Loss = 9.314419730799273e-05\n",
            "Epoch 900: Loss = 5.113445149618201e-05\n",
            "Trained W: [[1.9955903]], b: [0.01296483]\n",
            "\u001b[1m1/1\u001b[0m \u001b[32m━━━━━━━━━━━━━━━━━━━━\u001b[0m\u001b[37m\u001b[0m \u001b[1m0s\u001b[0m 73ms/step\n",
            "Loaded model prediction for 5.0: [[9.724295]]\n"
          ]
        }
      ],
      "source": [
        "# ======================\n",
        "# 📌 IMPORT LIBRARY\n",
        "# ======================\n",
        "import tensorflow as tf\n",
        "import numpy as np\n",
        "\n",
        "# ======================\n",
        "# 📌 COMPUTATION GRAPH + AUTODIFF\n",
        "# ======================\n",
        "x = tf.Variable(3.0)\n",
        "\n",
        "with tf.GradientTape() as tape:\n",
        "    y = x ** 2\n",
        "\n",
        "grad = tape.gradient(y, x)\n",
        "print(f\"Gradient dy/dx at x=3: {grad.numpy()}\")\n",
        "\n",
        "# ======================\n",
        "# 📌 CUSTOM TRAINING LOOP\n",
        "# ======================\n",
        "X = tf.constant([[1.0], [2.0], [3.0], [4.0]])\n",
        "y_true = tf.constant([[2.0], [4.0], [6.0], [8.0]])\n",
        "\n",
        "W = tf.Variable(tf.random.normal([1,1]))\n",
        "b = tf.Variable(tf.zeros([1]))\n",
        "\n",
        "optimizer = tf.keras.optimizers.SGD(learning_rate=0.01)\n",
        "\n",
        "for epoch in range(1000):\n",
        "    with tf.GradientTape() as tape:\n",
        "        y_pred = X @ W + b\n",
        "        loss = tf.reduce_mean((y_true - y_pred) ** 2)\n",
        "    grads = tape.gradient(loss, [W, b])\n",
        "    optimizer.apply_gradients(zip(grads, [W, b]))\n",
        "    if epoch % 100 == 0:\n",
        "        print(f\"Epoch {epoch}: Loss = {loss.numpy()}\")\n",
        "\n",
        "print(f\"Trained W: {W.numpy()}, b: {b.numpy()}\")\n",
        "\n",
        "# ======================\n",
        "# 📌 KERAS HIGH LEVEL API + SAVE MODEL\n",
        "# ======================\n",
        "model = tf.keras.Sequential([\n",
        "    tf.keras.Input(shape=(1,)),\n",
        "    tf.keras.layers.Dense(1)\n",
        "])\n",
        "model.compile(optimizer='sgd', loss='mse')\n",
        "model.fit(X, y_true, epochs=100, verbose=0)\n",
        "\n",
        "# Save model in .keras format\n",
        "model.save('linear_model.keras')\n",
        "\n",
        "# Load model and predict\n",
        "loaded_model = tf.keras.models.load_model('linear_model.keras')\n",
        "pred = loaded_model.predict(np.array([[5.0]]))\n",
        "print(\"Loaded model prediction for 5.0:\", pred)\n"
      ]
    }
  ]
}